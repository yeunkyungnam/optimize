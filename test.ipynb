{
 "cells": [
  {
   "cell_type": "code",
   "execution_count": 10,
   "id": "01b692de-633f-44ad-a92d-176fcc4f129c",
   "metadata": {},
   "outputs": [],
   "source": [
    "from ortools.linear_solver import pywraplp\n",
    "import openpyxl\n",
    "import os\n",
    "import sys\n",
    "import time\n",
    "import datetime\n",
    "from datetime import datetime as dt\n",
    "\n",
    "import matplotlib as mpl\n",
    "import matplotlib.pyplot as plt\n",
    "import matplotlib.ticker\n",
    "import numpy as np\n",
    "import pandas as pd\n",
    "\n",
    "from random import seed\n",
    "from random import random"
   ]
  },
  {
   "cell_type": "code",
   "execution_count": 11,
   "id": "0f7695d3-575a-448d-84e3-df032116acd7",
   "metadata": {},
   "outputs": [],
   "source": [
    "path = './advanced/data/'"
   ]
  },
  {
   "cell_type": "code",
   "execution_count": 12,
   "id": "a3a4b621-3c0e-466d-a569-d69091a9424b",
   "metadata": {},
   "outputs": [
    {
     "name": "stdout",
     "output_type": "stream",
     "text": [
      "Start : 2023-Jan-31 17:12:45.606261\n",
      "End : 2023-Jan-31 17:12:46.179745\n",
      "Load Data :0:00:00.573484\n"
     ]
    }
   ],
   "source": [
    "startDateTime = dt.now()\n",
    "print(\"Start : \" + startDateTime.strftime(\"%Y-%b-%d %H:%M:%S.%f\"))\n",
    "\n",
    "DEM = pd.read_excel(path+'dataLarge.xlsx',sheet_name='DEM')\n",
    "CAPA = pd.read_excel(path+'dataLarge.xlsx',sheet_name='CAPA')\n",
    "PCOST = pd.read_excel(path+'dataLarge.xlsx',sheet_name='PCOST')\n",
    "SCOST = pd.read_excel(path+'dataLarge.xlsx',sheet_name='SCOST')\n",
    "ISTOCK = pd.read_excel(path+'dataLarge.xlsx',sheet_name='ISTOCK')\n",
    "ITEM = DEM['ITEM'].drop_duplicates().to_list()\n",
    "RES = CAPA['RES'].drop_duplicates().to_list()\n",
    "TIME = DEM['TIME'].drop_duplicates().to_list()\n",
    "\n",
    "endDateTime = dt.now()\n",
    "print(\"End : \" + endDateTime.strftime(\"%Y-%b-%d %H:%M:%S.%f\"))\n",
    "print(\"Load Data :\" + str(endDateTime-startDateTime))"
   ]
  },
  {
   "cell_type": "code",
   "execution_count": 14,
   "id": "969b88e3-041e-4780-9334-133b366e738a",
   "metadata": {},
   "outputs": [],
   "source": [
    "arr_DEM = DEM.to_numpy()"
   ]
  },
  {
   "cell_type": "code",
   "execution_count": 15,
   "id": "e477a39f-f0fa-4e24-b7d6-10e159370cb8",
   "metadata": {},
   "outputs": [
    {
     "data": {
      "text/plain": [
       "array([[  1,   1, 300],\n",
       "       [  1,   2, 400],\n",
       "       [  1,   3, 500],\n",
       "       ...,\n",
       "       [100,  48, 400],\n",
       "       [100,  49, 300],\n",
       "       [100,  50, 200]])"
      ]
     },
     "execution_count": 15,
     "metadata": {},
     "output_type": "execute_result"
    }
   ],
   "source": [
    "arr_DEM"
   ]
  }
 ],
 "metadata": {
  "kernelspec": {
   "display_name": "opt",
   "language": "python",
   "name": "opt"
  },
  "language_info": {
   "codemirror_mode": {
    "name": "ipython",
    "version": 3
   },
   "file_extension": ".py",
   "mimetype": "text/x-python",
   "name": "python",
   "nbconvert_exporter": "python",
   "pygments_lexer": "ipython3",
   "version": "3.9.16"
  }
 },
 "nbformat": 4,
 "nbformat_minor": 5
}
