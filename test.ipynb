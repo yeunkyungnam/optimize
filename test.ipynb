{
 "cells": [
  {
   "cell_type": "code",
   "execution_count": 1,
   "id": "e5f78434",
   "metadata": {},
   "outputs": [],
   "source": [
    "from ortools.linear_solver import pywraplp\n",
    "import openpyxl\n",
    "import os\n",
    "import sys\n",
    "import time\n",
    "import datetime\n",
    "from datetime import datetime as dt\n",
    "\n",
    "import matplotlib as mpl\n",
    "import matplotlib.pyplot as plt\n",
    "import matplotlib.ticker\n",
    "import numpy as np\n",
    "import pandas as pd\n",
    "\n",
    "from random import seed\n",
    "from random import random"
   ]
  },
  {
   "cell_type": "code",
   "execution_count": 83,
   "id": "2b3f894c",
   "metadata": {},
   "outputs": [],
   "source": [
    "solver = pywraplp.Solver.CreateSolver('GLOP')\n",
    "solver.EnableOutput()\n",
    "# solver.SetNumThreads(10)"
   ]
  },
  {
   "cell_type": "code",
   "execution_count": 2,
   "id": "f6c3ed49",
   "metadata": {},
   "outputs": [],
   "source": [
    "path = './advanced/data/'"
   ]
  },
  {
   "cell_type": "code",
   "execution_count": 3,
   "id": "0e8e986c",
   "metadata": {},
   "outputs": [
    {
     "name": "stdout",
     "output_type": "stream",
     "text": [
      "Start : 2023-Jan-31 17:51:15.010227\n",
      "End : 2023-Jan-31 17:51:18.398070\n",
      "Load Data :0:00:03.387843\n"
     ]
    }
   ],
   "source": [
    "startDateTime = dt.now()\n",
    "print(\"Start : \" + startDateTime.strftime(\"%Y-%b-%d %H:%M:%S.%f\"))\n",
    "\n",
    "DEM = pd.read_excel(path+'dataLarge.xlsx',sheet_name='DEM')\n",
    "CAPA = pd.read_excel(path+'dataLarge.xlsx',sheet_name='CAPA')\n",
    "PCOST = pd.read_excel(path+'dataLarge.xlsx',sheet_name='PCOST')\n",
    "SCOST = pd.read_excel(path+'dataLarge.xlsx',sheet_name='SCOST')\n",
    "ISTOCK = pd.read_excel(path+'dataLarge.xlsx',sheet_name='ISTOCK')\n",
    "ITEM = DEM['ITEM'].drop_duplicates().to_list()\n",
    "RES = CAPA['RES'].drop_duplicates().to_list()\n",
    "TIME = DEM['TIME'].drop_duplicates().to_list()\n",
    "\n",
    "endDateTime = dt.now()\n",
    "print(\"End : \" + endDateTime.strftime(\"%Y-%b-%d %H:%M:%S.%f\"))\n",
    "print(\"Load Data :\" + str(endDateTime-startDateTime))"
   ]
  },
  {
   "cell_type": "code",
   "execution_count": 65,
   "id": "c0bb52c9",
   "metadata": {},
   "outputs": [],
   "source": [
    "arr_DEM = DEM.to_numpy()\n",
    "arr_CAPA = CAPA.to_numpy()\n",
    "arr_PCOST = PCOST.to_numpy()\n",
    "arr_SCOST = SCOST.to_numpy()\n",
    "arr_ISTOCK = ISTOCK.to_numpy()"
   ]
  },
  {
   "cell_type": "code",
   "execution_count": 66,
   "id": "2b9594d0",
   "metadata": {},
   "outputs": [],
   "source": [
    "adj_DEM = np.zeros((len(ITEM),len(TIME)))\n",
    "adj_CAPA = np.zeros((len(RES),len(TIME)))\n",
    "adj_PCOST = np.zeros((len(ITEM),len(RES)))\n",
    "adj_SCOST = np.zeros((len(ITEM)))\n",
    "adj_ISTOCK = np.zeros((len(ITEM)))"
   ]
  },
  {
   "cell_type": "code",
   "execution_count": 76,
   "id": "3078f51a",
   "metadata": {},
   "outputs": [],
   "source": [
    "for i in range(len(arr_DEM)):\n",
    "    demand = arr_DEM[i][2]\n",
    "    np.put(adj_DEM,i,demand)\n",
    "    \n",
    "for i in range(len(arr_CAPA)):\n",
    "    capacity = arr_CAPA[i][2]\n",
    "    np.put(adj_CAPA,i,capacity)\n",
    "    \n",
    "for i in range(len(arr_PCOST)):\n",
    "    productcost = arr_PCOST[i][2]\n",
    "    np.put(adj_PCOST,i,productcost)\n",
    "    \n",
    "for i in range(len(arr_SCOST)):\n",
    "    stockcost = arr_SCOST[i][1]\n",
    "    np.put(adj_SCOST,i,stockcost)\n",
    "    \n",
    "for i in range(len(arr_ISTOCK)):\n",
    "    initstock = arr_ISTOCK[i][1]\n",
    "    np.put(adj_ISTOCK,i,initstock)"
   ]
  },
  {
   "cell_type": "code",
   "execution_count": 88,
   "id": "02ef45c7",
   "metadata": {},
   "outputs": [
    {
     "name": "stdout",
     "output_type": "stream",
     "text": [
      "Start : 2023-Jan-31 21:40:45.110895\n",
      "Number of variables = 1010000\n"
     ]
    }
   ],
   "source": [
    "startDateTime = dt.now()\n",
    "print(\"Start : \" + startDateTime.strftime(\"%Y-%b-%d %H:%M:%S.%f\"))\n",
    "\n",
    "prodqty = {}\n",
    "storeqty = {}\n",
    "\n",
    "for i in range(len(ITEM)):\n",
    "    prodqty[i]=[[solver.NumVar(0, solver.infinity(), 'prodqty[%i][%i][%i]' %(i,j,k)) for k in range(len(TIME))] for j in range(len(RES))]\n",
    "\n",
    "for i in range(len(ITEM)):\n",
    "    storeqty[i] = [solver.NumVar(0, solver.infinity(), 'storeqty[%i][%i]' %(i,k)) for k in range(len(TIME))]\n",
    "        \n",
    "print('Number of variables =', solver.NumVariables())"
   ]
  },
  {
   "cell_type": "code",
   "execution_count": 89,
   "id": "5f8d9210",
   "metadata": {},
   "outputs": [],
   "source": [
    "for i in range(len(ITEM)) :\n",
    "    for k in range(len(TIME)):\n",
    "        if k == 0 :\n",
    "            solver.Add(solver.Sum(prodqty[i][j][k] for j in range(len(RES))) == int(adj_DEM[i][k]) - int(adj_ISTOCK[i]))\n",
    "        else :\n",
    "            solver.Add(solver.Sum(prodqty[i][j][k] for j in range(len(RES))) + storeqty[i][k-1] - storeqty[i][k] == int(adj_DEM[i][k]))"
   ]
  },
  {
   "cell_type": "code",
   "execution_count": 90,
   "id": "a1538396",
   "metadata": {},
   "outputs": [],
   "source": [
    "for j in range(len(RES)):\n",
    "    for k in range(len(TIME)):\n",
    "        solver.Add(solver.Sum(prodqty[i][j][k] for i in range(len(ITEM))) <= int(adj_CAPA[j][k]) )"
   ]
  },
  {
   "cell_type": "code",
   "execution_count": 91,
   "id": "83817810",
   "metadata": {},
   "outputs": [
    {
     "name": "stdout",
     "output_type": "stream",
     "text": [
      "Number of constraints = 20000\n",
      "End : 2023-Jan-31 21:40:48.014944\n",
      "Make Constraints:0:00:02.904049\n"
     ]
    }
   ],
   "source": [
    "print('Number of constraints =', solver.NumConstraints())\n",
    "\n",
    "endDateTime = dt.now()\n",
    "print(\"End : \" + endDateTime.strftime(\"%Y-%b-%d %H:%M:%S.%f\"))\n",
    "print(\"Make Constraints:\" + str(endDateTime-startDateTime))"
   ]
  },
  {
   "cell_type": "code",
   "execution_count": 92,
   "id": "c5603985",
   "metadata": {},
   "outputs": [
    {
     "name": "stdout",
     "output_type": "stream",
     "text": [
      "Start : 2023-Jan-31 21:41:40.710090\n",
      "End : 2023-Jan-31 21:41:47.382622\n",
      "Make Objective:0:00:06.672532\n"
     ]
    }
   ],
   "source": [
    "startDateTime = dt.now()\n",
    "print(\"Start : \" + startDateTime.strftime(\"%Y-%b-%d %H:%M:%S.%f\"))\n",
    "\n",
    "obj_exp = 0\n",
    "# obj = solver.Sum(((prodqty[i][j][k] * PCOST[(PCOST['ITEM']==i+1)&(PCOST['RES']==j+1)].reset_index()['PCOST'] for i in range(len(ITEM))) for j in range(len(RES))) for k in range(len(TIME)))\n",
    "for i in range(len(ITEM)):\n",
    "    for j in range(len(RES)):\n",
    "        for k in range(len(TIME)):\n",
    "            obj_exp = obj_exp + prodqty[i][j][k] * int(adj_PCOST[i][j]) + storeqty[i][k] * int(adj_SCOST[i])\n",
    "            \n",
    "endDateTime = dt.now()\n",
    "print(\"End : \" + endDateTime.strftime(\"%Y-%b-%d %H:%M:%S.%f\"))\n",
    "print(\"Make Objective:\" + str(endDateTime-startDateTime))"
   ]
  },
  {
   "cell_type": "code",
   "execution_count": 94,
   "id": "c75f181f",
   "metadata": {},
   "outputs": [
    {
     "name": "stdout",
     "output_type": "stream",
     "text": [
      "Start : 2023-Jan-31 21:42:46.031418\n",
      "Solve Problem : 2023-Jan-31 21:42:51.668233\n",
      "0:00:05.636815\n"
     ]
    }
   ],
   "source": [
    "startDateTime = dt.now()\n",
    "print(\"Start : \" + startDateTime.strftime(\"%Y-%b-%d %H:%M:%S.%f\"))\n",
    "\n",
    "solver.Minimize(obj_exp)\n",
    "solver.Solve()\n",
    "\n",
    "endDateTime = dt.now()\n",
    "print(\"Solve Problem : \" + endDateTime.strftime(\"%Y-%b-%d %H:%M:%S.%f\"))\n",
    "print(endDateTime-startDateTime)"
   ]
  },
  {
   "cell_type": "code",
   "execution_count": 95,
   "id": "ebe5b362",
   "metadata": {},
   "outputs": [
    {
     "name": "stdout",
     "output_type": "stream",
     "text": [
      "Start : 2023-Jan-31 21:42:51.683908\n",
      "Write output : 2023-Jan-31 21:58:19.466673\n",
      "0:15:27.782765\n"
     ]
    }
   ],
   "source": [
    "startDateTime = dt.now()\n",
    "print(\"Start : \" + startDateTime.strftime(\"%Y-%b-%d %H:%M:%S.%f\"))\n",
    "\n",
    "arr_prod = np.empty((0,4), int)\n",
    "for i in range(len(ITEM)):\n",
    "    for j in range(len(RES)):\n",
    "        for k in range(len(TIME)):\n",
    "           arr_prod = np.append(arr_prod,np.array([[i+1,j+1,k+1,prodqty[i][j][k].solution_value()]]), axis=0)\n",
    "\n",
    "df_prod= pd.DataFrame(arr_prod,columns = ['ITEM','RES','TIME','PROD'])\n",
    "\n",
    "arr_store = np.empty((0,3), int)\n",
    "for i in range(len(ITEM)):\n",
    "    for k in range(len(TIME)):\n",
    "        arr_store = np.append(arr_store,np.array([[i+1,k+1,storeqty[i][k].solution_value()]]), axis=0)\n",
    "\n",
    "df_store = pd.DataFrame(arr_store,columns = ['ITEM','TIME','STORE'])\n",
    "\n",
    "df_prod.to_csv(path+'prodqty2.csv',index=False)\n",
    "df_store.to_csv(path+'storeqty2.csv',index=False)\n",
    "\n",
    "    \n",
    "endDateTime = dt.now()\n",
    "print(\"Write output : \" + endDateTime.strftime(\"%Y-%b-%d %H:%M:%S.%f\"))\n",
    "print(endDateTime-startDateTime)"
   ]
  }
 ],
 "metadata": {
  "kernelspec": {
   "display_name": "opt",
   "language": "python",
   "name": "opt"
  },
  "language_info": {
   "codemirror_mode": {
    "name": "ipython",
    "version": 3
   },
   "file_extension": ".py",
   "mimetype": "text/x-python",
   "name": "python",
   "nbconvert_exporter": "python",
   "pygments_lexer": "ipython3",
   "version": "3.9.16"
  }
 },
 "nbformat": 4,
 "nbformat_minor": 5
}
