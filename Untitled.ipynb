{
 "cells": [
  {
   "cell_type": "markdown",
   "id": "52072897-cc9b-4bbc-9b2a-28e49d0499c4",
   "metadata": {},
   "source": [
    "# Planning the production of bicycles\n",
    "---\n",
    "* 월별 판매 예측\n",
    "    *  1월 30000 /  2월 15000 /  3월 15000\n",
    "    *  4월 25000 /  5월 33000 /  6월 40000\n",
    "    *  7월 45000 /  8월 45000 /  9월 26000\n",
    "    * 10월 14000 / 11월 25000 / 12월 30000\n",
    "* 생산가능량 월 30,000 대\n",
    "* 추가근무로 생산량 50% 증가 가능 단, 생산단가 32달러에서 40달러로 증가\n",
    "* 기초재고 2000대\n",
    "* 재고비용 월별 대당 5달러 발생, 창고 capa 무한\n",
    "---\n",
    "#### 현재 1월 1일\n",
    "#### 판매 예측량을 충족하고 총비용 (상산비용 + 재고비용)을 최소화 하는 월별 생산량, 재고량 산출\n",
    "---"
   ]
  },
  {
   "cell_type": "markdown",
   "id": "25689a3e-98ae-4767-968b-bb02eb469f39",
   "metadata": {},
   "source": [
    "#### 변수\n",
    "- t : 월\n",
    "- ISTOCK : 기초재고\n",
    "- DEM : 월별 판매 예측량\n",
    "- CAP : 월별 생산 capa\n",
    "- CSTOCK : 대당 월별 재고 비용\n",
    "- CPROD : 대당 월별 생산 비용\n",
    "- COVER : 대당 월별 초과 생산 비용\n",
    "- store : 월별 재고량\n",
    "- prod : 월별 생산량\n",
    "- over : 월별 초과 생산량"
   ]
  },
  {
   "cell_type": "markdown",
   "id": "620efcca-b3be-4e7c-a1cf-7459680091fb",
   "metadata": {},
   "source": [
    "#### 목적식\n",
    "- $minimize \\sum_{t\\in MONTHS}(CPROD * prod_t + COVER * over_t + CSTOCK * store_t)$\n",
    "\n",
    "---\n",
    "#### 제약식\n",
    "- 생산, 판매, 재고 Balance 제약\n",
    "    - 1월 : $prod_1 + over_1 + ISTOCK = DEM_1 + store_1 $\n",
    "    - 2~12월 : $prod_t + over_t + store_{t-1} = DEM_t + store_t$\n",
    "- 생산 capa 제약\n",
    "    - $\\forall t \\in MONTHS : prod_t \\le CAP$\n",
    "    - $\\forall t \\in MONTHS : over_t \\le 0.5 * CAP$\n",
    "- non-negative 제약\n",
    "    - $\\forall t \\in MONTHS : prod_t \\ge 0, over_t \\ge 0, store_t \\ge 0$"
   ]
  },
  {
   "cell_type": "code",
   "execution_count": null,
   "id": "5e5af78c-ec32-4a20-adee-4a62dc242e0e",
   "metadata": {},
   "outputs": [],
   "source": []
  }
 ],
 "metadata": {
  "kernelspec": {
   "display_name": "Python 3",
   "language": "python",
   "name": "python3"
  },
  "language_info": {
   "codemirror_mode": {
    "name": "ipython",
    "version": 3
   },
   "file_extension": ".py",
   "mimetype": "text/x-python",
   "name": "python",
   "nbconvert_exporter": "python",
   "pygments_lexer": "ipython3",
   "version": "3.9.15"
  }
 },
 "nbformat": 4,
 "nbformat_minor": 5
}
