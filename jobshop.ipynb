{
 "cells": [
  {
   "cell_type": "code",
   "execution_count": 1,
   "id": "dc5ce77b-aaf1-4663-80d9-b8021ffd771f",
   "metadata": {},
   "outputs": [],
   "source": [
    "import collections\n",
    "from ortools.sat.python import cp_model"
   ]
  },
  {
   "cell_type": "code",
   "execution_count": 2,
   "id": "3d87d29b-6b94-4be5-a8a9-f8f360d4d330",
   "metadata": {},
   "outputs": [],
   "source": [
    "jobs_data = [  # task = (machine_id, processing_time).\n",
    "    [(0, 3), (1, 2), (2, 2)],  # Job0\n",
    "    [(0, 2), (2, 1), (1, 4)],  # Job1\n",
    "    [(1, 4), (2, 3)]  # Job2\n",
    "]"
   ]
  },
  {
   "cell_type": "code",
   "execution_count": 3,
   "id": "41b22729-f9b8-471a-9d41-8a16ed45efc5",
   "metadata": {},
   "outputs": [],
   "source": [
    "machines_count = 1 + max(task[0] for job in jobs_data for task in job)\n",
    "all_machines = range(machines_count)\n",
    "# Computes horizon dynamically as the sum of all durations.\n",
    "horizon = sum(task[1] for job in jobs_data for task in job)"
   ]
  },
  {
   "cell_type": "code",
   "execution_count": 11,
   "id": "42c67fab-a9c9-40c4-9bb2-d59bf7054ffd",
   "metadata": {},
   "outputs": [
    {
     "data": {
      "text/plain": [
       "tuple"
      ]
     },
     "execution_count": 11,
     "metadata": {},
     "output_type": "execute_result"
    }
   ],
   "source": [
    "type(jobs_data[0][1])"
   ]
  },
  {
   "cell_type": "code",
   "execution_count": null,
   "id": "90a32bd8-0567-402b-bdee-6bcc043430bc",
   "metadata": {},
   "outputs": [],
   "source": []
  }
 ],
 "metadata": {
  "kernelspec": {
   "display_name": "opt",
   "language": "python",
   "name": "opt"
  },
  "language_info": {
   "codemirror_mode": {
    "name": "ipython",
    "version": 3
   },
   "file_extension": ".py",
   "mimetype": "text/x-python",
   "name": "python",
   "nbconvert_exporter": "python",
   "pygments_lexer": "ipython3",
   "version": "3.9.16"
  }
 },
 "nbformat": 4,
 "nbformat_minor": 5
}
