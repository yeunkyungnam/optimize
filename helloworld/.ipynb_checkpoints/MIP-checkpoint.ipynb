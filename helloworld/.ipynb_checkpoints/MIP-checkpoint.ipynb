{
 "cells": [
  {
   "cell_type": "markdown",
   "metadata": {},
   "source": [
    "## MIP Example"
   ]
  },
  {
   "cell_type": "markdown",
   "metadata": {},
   "source": [
    "### Constraints(제약 조건)\n",
    "1. $x + 7y \\le 17.5$\n",
    "2. $0 \\le x \\le 3.5$\n",
    "3. $0 \\le y$\n",
    "4. $x,y$ : Integer\n",
    "\n",
    "### Objective function (목적식)\n",
    "- Maximize $x + 10y$\n",
    "\n",
    "<img src=\"https://developers.google.com/static/optimization/images/mip/feasible_region.png\" >"
   ]
  },
  {
   "cell_type": "code",
   "execution_count": 23,
   "metadata": {},
   "outputs": [],
   "source": [
    "# package 호출\n",
    "from ortools.linear_solver import pywraplp\n",
    "# Create the mip solver with the SCIP backend\n",
    "solver = pywraplp.Solver.CreateSolver('SCIP')\n",
    "# solver = pywraplp.Solver.CreateSolver('GLOP')"
   ]
  },
  {
   "cell_type": "code",
   "execution_count": 24,
   "metadata": {},
   "outputs": [
    {
     "name": "stdout",
     "output_type": "stream",
     "text": [
      "Number of variables =  2\n"
     ]
    }
   ],
   "source": [
    "infinity = solver.infinity()\n",
    "# x and y are integer non-negative variables.\n",
    "x = solver.IntVar(0, infinity, 'x')\n",
    "y = solver.IntVar(0, infinity, 'y')\n",
    "# x = solver.NumVar(0, infinity, 'x')\n",
    "# y = solver.NumVar(0, infinity, 'y')\n",
    "\n",
    "print('Number of variables = ', solver.NumVariables())"
   ]
  },
  {
   "cell_type": "code",
   "execution_count": 25,
   "metadata": {},
   "outputs": [
    {
     "name": "stdout",
     "output_type": "stream",
     "text": [
      "Number of constraints = 2\n"
     ]
    }
   ],
   "source": [
    "# x + 7 * y <= 17.5\n",
    "solver.Add(x + 7 * y <= 17.5)\n",
    "\n",
    "# x < 3.5\n",
    "solver.Add(x <= 3.5)\n",
    "\n",
    "print('Number of constraints =' , solver.NumConstraints())"
   ]
  },
  {
   "cell_type": "code",
   "execution_count": 26,
   "metadata": {},
   "outputs": [],
   "source": [
    "# Maximize x + 10 * y\n",
    "solver.Maximize(x + 10 * y)"
   ]
  },
  {
   "cell_type": "code",
   "execution_count": 27,
   "metadata": {},
   "outputs": [],
   "source": [
    "status = solver.Solve()"
   ]
  },
  {
   "cell_type": "code",
   "execution_count": 28,
   "metadata": {},
   "outputs": [
    {
     "name": "stdout",
     "output_type": "stream",
     "text": [
      "Solution:\n",
      "Objective value = 23.0\n",
      "x = 3.0\n",
      "y = 2.0\n"
     ]
    }
   ],
   "source": [
    "print('Solution:')\n",
    "print('Objective value =', solver.Objective().Value())\n",
    "print('x =', x.solution_value())\n",
    "print('y =', y.solution_value())"
   ]
  },
  {
   "cell_type": "markdown",
   "metadata": {},
   "source": [
    "<img src=\"https://developers.google.com/static/optimization/images/mip/feasible_region_sol.png\" >"
   ]
  },
  {
   "cell_type": "code",
   "execution_count": null,
   "metadata": {},
   "outputs": [],
   "source": []
  }
 ],
 "metadata": {
  "kernelspec": {
   "display_name": "Python 3",
   "language": "python",
   "name": "python3"
  },
  "language_info": {
   "codemirror_mode": {
    "name": "ipython",
    "version": 3
   },
   "file_extension": ".py",
   "mimetype": "text/x-python",
   "name": "python",
   "nbconvert_exporter": "python",
   "pygments_lexer": "ipython3",
   "version": "3.8.5"
  }
 },
 "nbformat": 4,
 "nbformat_minor": 5
}
