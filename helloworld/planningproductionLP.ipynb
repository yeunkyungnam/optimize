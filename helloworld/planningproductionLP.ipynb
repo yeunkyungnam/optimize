{
 "cells": [
  {
   "cell_type": "markdown",
   "metadata": {},
   "source": [
    "# Planning the production of bicycles\n",
    "---\n",
    "### 현재 1월 1일\n",
    "\n",
    "* 월별 판매 예측 (단위: 천 대)\n",
    "|Jan|Feb|Mar|Apr|May|Jun|Jul|Aug|Sep|Oct|Nov|Dec|\n",
    "|---:|---:|---:|---:|---:|---:|---:|---:|---:|---:|---:|---:|\n",
    "|30|15|15|25|33|40|45|45|26|14|25|30|\n",
    "* 생산가능량 월 30,000 대\n",
    "* 초과근무로 생산량 50% 증가 가능 단, 생산단가 32＄에서 40＄로 증가\n",
    "* 기초재고 2000대\n",
    "* 재고비용 월별 대당 5＄ 발생\n",
    "* 창고 capa 무한\n",
    "---\n",
    "### 판매 예측량을 충족하고 총비용 (생산비용 + 재고비용)을 최소화 하는 월별 생산량, 재고량 산출\n",
    "---"
   ]
  },
  {
   "cell_type": "code",
   "execution_count": 1,
   "metadata": {},
   "outputs": [],
   "source": [
    "from ortools.linear_solver import pywraplp"
   ]
  },
  {
   "cell_type": "code",
   "execution_count": 2,
   "metadata": {},
   "outputs": [],
   "source": [
    "solver = pywraplp.Solver.CreateSolver('SCIP')\n",
    "infinity = solver.infinity()"
   ]
  },
  {
   "cell_type": "markdown",
   "metadata": {},
   "source": [
    "### 변수\n",
    "#### Data\n",
    "- MONTHS : month index\n",
    "- DEM : 월별 판매 예측량\n",
    "- CAP : 월별 생산 capa\n",
    "- CPROD : 대당 월별 생산 비용\n",
    "- COVER : 대당 월별 초과 생산 비용\n",
    "- CSTOCK : 대당 월별 재고 비용\n",
    "- ISTOCK : 기초재고\n"
   ]
  },
  {
   "cell_type": "code",
   "execution_count": 3,
   "metadata": {},
   "outputs": [],
   "source": [
    "MONTHS = [\"Jan\", \"Feb\", \"Mar\", \"Apr\", \"May\", \"Jun\", \"Jul\", \"Aug\", \"Sep\", \"Oct\", \"Nov\", \"Dec\"]\n",
    "DEM = [30000, 15000, 15000, 25000, 33000, 40000, 45000, 45000, 26000, 14000, 25000, 30000]\n",
    "CPROD =  32\n",
    "COVER =  40\n",
    "CSTOCK =  5\n",
    "CAP =    30000\n",
    "ISTOCK =  2000"
   ]
  },
  {
   "cell_type": "code",
   "execution_count": 4,
   "metadata": {},
   "outputs": [
    {
     "data": {
      "text/plain": [
       "int"
      ]
     },
     "execution_count": 4,
     "metadata": {},
     "output_type": "execute_result"
    }
   ],
   "source": [
    "type(DEM[0])"
   ]
  },
  {
   "cell_type": "markdown",
   "metadata": {},
   "source": [
    "#### Decision Variable\n",
    "- $prod_t$ : 월별 생산량\n",
    "- $over_t$ : 월별 초과 생산량\n",
    "- $store_t$ : 월별 재고량\n",
    "- $\\forall t \\in MONTHS :prod_t, over_t, store_t$ are Integer values\n",
    "- $\\forall t \\in MONTHS : prod_t \\ge 0, over_t \\ge 0, store_t \\ge 0$"
   ]
  },
  {
   "cell_type": "code",
   "execution_count": 5,
   "metadata": {},
   "outputs": [
    {
     "name": "stdout",
     "output_type": "stream",
     "text": [
      "Number of variables = 36\n"
     ]
    }
   ],
   "source": [
    "prod = {}\n",
    "over = {}\n",
    "store = {}\n",
    "for t in range(len(MONTHS)):\n",
    "    prod[t] = solver.NumVar(0, infinity, 'prod[%i]' % t)\n",
    "    over[t] = solver.NumVar(0, infinity, 'over[%i]' % t)\n",
    "    store[t] = solver.IntVar(0, infinity, 'store[%i]' % t)\n",
    "print('Number of variables =', solver.NumVariables())"
   ]
  },
  {
   "cell_type": "markdown",
   "metadata": {},
   "source": [
    "#### Constraints\n",
    "- 생산, 판매, 재고 Balance 제약\n",
    "    - $prod_1 + over_1 + ISTOCK = DEM_1 + store_1 $\n",
    "    - $\\forall t \\in MONTHS, t \\ne \"Jan\" : $prod_t + over_t + store_{t-1} = DEM_t + store_t$"
   ]
  },
  {
   "cell_type": "code",
   "execution_count": 6,
   "metadata": {},
   "outputs": [],
   "source": [
    "for t in range(len(MONTHS)):\n",
    "    if t == 0 :\n",
    "        solver.Add(prod[t] + over[t] + ISTOCK >=  DEM[t] + store[t])\n",
    "    else :\n",
    "        solver.Add(prod[t] + over[t] + store[t-1] >= DEM[t] + store[t])"
   ]
  },
  {
   "cell_type": "markdown",
   "metadata": {},
   "source": [
    "- 생산 capa 제약\n",
    "    - $\\forall t \\in MONTHS : prod_t \\le CAP$\n",
    "    - $\\forall t \\in MONTHS : over_t \\le 0.5 * CAP$"
   ]
  },
  {
   "cell_type": "code",
   "execution_count": 7,
   "metadata": {},
   "outputs": [],
   "source": [
    "for t in range(len(MONTHS)):\n",
    "    solver.Add(prod[t] <= CAP)\n",
    "    solver.Add(over[t] <= 0.5*CAP)"
   ]
  },
  {
   "cell_type": "code",
   "execution_count": 8,
   "metadata": {},
   "outputs": [],
   "source": [
    "# for t in range(len(MONTHS)):\n",
    "#     solver.Add(store[t] >= 1000)"
   ]
  },
  {
   "cell_type": "code",
   "execution_count": 9,
   "metadata": {},
   "outputs": [
    {
     "name": "stdout",
     "output_type": "stream",
     "text": [
      "Number of constraints = 36\n"
     ]
    }
   ],
   "source": [
    "print('Number of constraints =', solver.NumConstraints())"
   ]
  },
  {
   "cell_type": "markdown",
   "metadata": {},
   "source": [
    "#### objective function\n",
    "- $minimize \\sum_{t\\in MONTHS}(CPROD * prod_t + COVER * over_t + CSTOCK * store_t)$"
   ]
  },
  {
   "cell_type": "code",
   "execution_count": 10,
   "metadata": {},
   "outputs": [],
   "source": [
    "obj_exp = 0\n",
    "for t in range(12) :\n",
    "    obj_exp = obj_exp + CPROD*prod[t] + COVER*over[t] + CSTOCK*store[t]\n",
    "solver.Minimize(obj_exp)"
   ]
  },
  {
   "cell_type": "code",
   "execution_count": 11,
   "metadata": {},
   "outputs": [
    {
     "data": {
      "text/plain": [
       "0"
      ]
     },
     "execution_count": 11,
     "metadata": {},
     "output_type": "execute_result"
    }
   ],
   "source": [
    "solver.Solve()"
   ]
  },
  {
   "cell_type": "code",
   "execution_count": 12,
   "metadata": {},
   "outputs": [
    {
     "name": "stdout",
     "output_type": "stream",
     "text": [
      "Mon\tDemand\tProd\tOver\tStock\n",
      "init\t\t\t\t2000\n",
      "Jan\t30000\t27999.999999999996\t0.0\t0.0\n",
      "Feb\t15000\t14999.999999999998\t0.0\t0.0\n",
      "Mar\t15000\t14999.999999999998\t0.0\t0.0\n",
      "Apr\t25000\t28000.000000000004\t0.0\t3000.0\n",
      "May\t33000\t29999.999999999996\t0.0\t0.0\n",
      "Jun\t40000\t29999.999999999996\t10000.000000000004\t0.0\n",
      "Jul\t45000\t29999.999999999996\t15000.00000000001\t0.0\n",
      "Aug\t45000\t29999.999999999996\t14999.999999999998\t0.0\n",
      "Sep\t26000\t26000.0\t0.0\t0.0\n",
      "Oct\t14000\t13999.999999999998\t0.0\t0.0\n",
      "Nov\t25000\t25000.0\t0.0\t0.0\n",
      "Dec\t30000\t30000.0\t0.0\t0.0\n"
     ]
    }
   ],
   "source": [
    "print (\"Mon\\tDemand\\tProd\\tOver\\tStock\")\n",
    "print (\"init\\t\\t\\t\\t\" + str(ISTOCK))\n",
    "for t in range(12):\n",
    "    print(str(MONTHS[t]) + '\\t' + str(DEM[t]) + '\\t' + str(prod[t].solution_value()) + '\\t' + str(over[t].solution_value()) \\\n",
    "          + '\\t' + str(store[t].solution_value()) )"
   ]
  },
  {
   "cell_type": "code",
   "execution_count": 13,
   "metadata": {},
   "outputs": [
    {
     "data": {
      "text/plain": [
       "11247000.0"
      ]
     },
     "execution_count": 13,
     "metadata": {},
     "output_type": "execute_result"
    }
   ],
   "source": [
    "solver.Objective().Value()"
   ]
  },
  {
   "cell_type": "code",
   "execution_count": null,
   "metadata": {},
   "outputs": [],
   "source": []
  }
 ],
 "metadata": {
  "kernelspec": {
   "display_name": "Python 3",
   "language": "python",
   "name": "python3"
  },
  "language_info": {
   "codemirror_mode": {
    "name": "ipython",
    "version": 3
   },
   "file_extension": ".py",
   "mimetype": "text/x-python",
   "name": "python",
   "nbconvert_exporter": "python",
   "pygments_lexer": "ipython3",
   "version": "3.8.5"
  }
 },
 "nbformat": 4,
 "nbformat_minor": 5
}
