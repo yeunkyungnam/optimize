{
 "cells": [
  {
   "cell_type": "code",
   "execution_count": 1,
   "metadata": {
    "ExecuteTime": {
     "end_time": "2021-12-14T02:40:35.546745Z",
     "start_time": "2021-12-14T02:40:35.536996Z"
    }
   },
   "outputs": [],
   "source": [
    "%load_ext autoreload\n",
    "%autoreload 2"
   ]
  },
  {
   "cell_type": "code",
   "execution_count": 2,
   "metadata": {
    "ExecuteTime": {
     "end_time": "2020-12-29T02:25:26.974537Z",
     "start_time": "2020-12-29T02:25:23.076510Z"
    }
   },
   "outputs": [],
   "source": [
    "from __future__ import (absolute_import, division, print_function,\n",
    "                        unicode_literals)\n",
    "\n",
    "import os\n",
    "import sys\n",
    "import time\n",
    "import logging\n",
    "import warnings\n",
    "import datetime\n",
    "from collections import defaultdict\n",
    "from copy import deepcopy\n",
    "from datetime import datetime as dt\n",
    "from functools import partial\n",
    "\n",
    "import matplotlib as mpl\n",
    "import matplotlib.pyplot as plt\n",
    "import matplotlib.ticker\n",
    "import numpy as np\n",
    "import pandas as pd\n",
    "import pprint\n",
    "import pyodbc\n",
    "import random\n",
    "# import qgrid\n",
    "import seaborn as sns\n",
    "import statsmodels.api as sm\n",
    "# import tensorflow as tf\n",
    "\n",
    "from prophet import Prophet\n",
    "# from fbprophet.plot import add_changepoints_to_plot\n",
    "\n",
    "# from kerastuner.tuners import RandomSearch\n",
    "# from lightgbm import LGBMRegressor\n",
    "\n",
    "import pmdarima as pm\n",
    "from pmdarima.arima.utils import ndiffs\n",
    "from pmdarima.model_selection import train_test_split as train_test_split_ts\n",
    "from scipy import stats\n",
    "\n",
    "from sklearn.datasets import load_boston\n",
    "from sklearn.ensemble import (GradientBoostingRegressor, RandomForestRegressor,\n",
    "                              StackingRegressor, VotingRegressor)\n",
    "from sklearn.inspection import plot_partial_dependence\n",
    "from sklearn.linear_model import (ElasticNet, ElasticNetCV, Lasso, LassoCV,\n",
    "                                  LinearRegression, Ridge, RidgeCV)\n",
    "from sklearn.metrics import (explained_variance_score, mean_absolute_error,\n",
    "                             mean_squared_error, r2_score)\n",
    "from sklearn.model_selection import (GridSearchCV, RandomizedSearchCV,\n",
    "                                     cross_val_predict, cross_validate,\n",
    "                                     train_test_split)\n",
    "from sklearn.neural_network import MLPRegressor\n",
    "from sklearn.pipeline import make_pipeline\n",
    "from sklearn.preprocessing import MinMaxScaler, RobustScaler, StandardScaler\n",
    "from sklearn.tree import DecisionTreeRegressor\n",
    "from sklearn.utils import check_array\n",
    "from statsmodels.graphics.tsaplots import plot_acf, plot_pacf\n",
    "from statsmodels.tsa.holtwinters import (ExponentialSmoothing, Holt,\n",
    "                                         SimpleExpSmoothing)\n",
    "# from tensorflow import keras\n",
    "# from tensorflow.keras import layers\n",
    "from tqdm.auto import tqdm\n",
    "from xgboost import XGBRegressor\n",
    "\n",
    "from dateutil.relativedelta import relativedelta\n",
    "import gzip\n",
    "from concurrent.futures import ProcessPoolExecutor, ThreadPoolExecutor\n",
    "\n",
    "import zionexar\n",
    "from zionexar import bf_util\n",
    "from zionexar import eda\n",
    "from zionexar.diagnostics import (cross_validation_regression,\n",
    "                                  cross_validation_ts, cross_validation_zar,\n",
    "                                  cross_validation_ztfp, performance_metrics)\n",
    "from zionexar.forecaster import (ZAR, ZTFP, \n",
    "                                 search_models_zar, search_models_zar_cv, \n",
    "                                 search_models_prophet, search_models_ztfp)\n",
    "from zionexar.plot import plot_cross_validation_metric\n",
    "from zionexar.plot import plot_cv_result\n",
    "from zionexar.forecaster import ZCroston\n",
    "from zionexar.forecaster import ZQRegression\n",
    "from zionexar.bf_util import weighted_absolute_percentage_error"
   ]
  },
  {
   "cell_type": "code",
   "execution_count": 3,
   "metadata": {
    "ExecuteTime": {
     "end_time": "2020-12-29T02:25:27.038780Z",
     "start_time": "2020-12-29T02:25:26.976805Z"
    }
   },
   "outputs": [],
   "source": [
    "warnings.filterwarnings('ignore')"
   ]
  },
  {
   "cell_type": "code",
   "execution_count": 4,
   "metadata": {
    "ExecuteTime": {
     "end_time": "2020-12-29T02:25:27.101049Z",
     "start_time": "2020-12-29T02:25:27.041813Z"
    }
   },
   "outputs": [],
   "source": [
    "bf_util.set_seed()\n",
    "\n",
    "sns.set(style=\"whitegrid\")\n",
    "# sns.set(style=\"ticks\")\n",
    "# sns.set(style=\"darkgrid\")"
   ]
  },
  {
   "cell_type": "code",
   "execution_count": null,
   "metadata": {},
   "outputs": [],
   "source": []
  }
 ],
 "metadata": {
  "hide_input": false,
  "kernelspec": {
   "display_name": "Python 3",
   "language": "python",
   "name": "python3"
  },
  "language_info": {
   "codemirror_mode": {
    "name": "ipython",
    "version": 3
   },
   "file_extension": ".py",
   "mimetype": "text/x-python",
   "name": "python",
   "nbconvert_exporter": "python",
   "pygments_lexer": "ipython3",
   "version": "3.9.15"
  },
  "latex_envs": {
   "LaTeX_envs_menu_present": true,
   "autoclose": false,
   "autocomplete": true,
   "bibliofile": "biblio.bib",
   "cite_by": "apalike",
   "current_citInitial": 1,
   "eqLabelWithNumbers": true,
   "eqNumInitial": 1,
   "hotkeys": {
    "equation": "Ctrl-E",
    "itemize": "Ctrl-I"
   },
   "labels_anchors": false,
   "latex_user_defs": false,
   "report_style_numbering": false,
   "user_envs_cfg": false
  },
  "toc": {
   "base_numbering": 1,
   "nav_menu": {},
   "number_sections": true,
   "sideBar": true,
   "skip_h1_title": false,
   "title_cell": "Table of Contents",
   "title_sidebar": "Contents",
   "toc_cell": false,
   "toc_position": {},
   "toc_section_display": true,
   "toc_window_display": false
  },
  "varInspector": {
   "cols": {
    "lenName": 16,
    "lenType": 16,
    "lenVar": 40
   },
   "kernels_config": {
    "python": {
     "delete_cmd_postfix": "",
     "delete_cmd_prefix": "del ",
     "library": "var_list.py",
     "varRefreshCmd": "print(var_dic_list())"
    },
    "r": {
     "delete_cmd_postfix": ") ",
     "delete_cmd_prefix": "rm(",
     "library": "var_list.r",
     "varRefreshCmd": "cat(var_dic_list()) "
    }
   },
   "types_to_exclude": [
    "module",
    "function",
    "builtin_function_or_method",
    "instance",
    "_Feature"
   ],
   "window_display": false
  }
 },
 "nbformat": 4,
 "nbformat_minor": 4
}
