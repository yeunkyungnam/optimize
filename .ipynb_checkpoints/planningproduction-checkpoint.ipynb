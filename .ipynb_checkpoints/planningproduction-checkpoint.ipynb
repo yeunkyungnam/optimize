{
 "cells": [
  {
   "cell_type": "code",
   "execution_count": 1,
   "id": "288d7113-5853-4f26-be55-07188b44ad9b",
   "metadata": {},
   "outputs": [],
   "source": [
    "from ortools.linear_solver import pywraplp"
   ]
  },
  {
   "cell_type": "markdown",
   "id": "52072897-cc9b-4bbc-9b2a-28e49d0499c4",
   "metadata": {},
   "source": [
    "# Planning the production of bicycles\n",
    "---\n",
    "* 월별 판매 예측\n",
    "|  1월  |  2월  |  3월  |  4월  |  5월  |  6월  |  7월  |  8월  |  9월  |  10월  |  11월  |  12월  |\n",
    "|-------|-------|-------|-------|-------|-------|-------|-------|-------|-------|-------|-------|\n",
    "| 30,000 | 15,000 | 15,000 | 25,000 | 33,000 | 40,000 | 45,000 | 45,000 | 26,000 | 14,000 | 25,000 | 30,000 |\n",
    "\n",
    "* 생산가능량 월 30,000 대\n",
    "* 추가근무로 생산량 50% 증가 가능 단, 생산단가 32달러에서 40달러로 증가\n",
    "* 기초재고 2000대\n",
    "* 재고비용 월별 대당 5달러 발생, 창고 capa 무한\n",
    "---\n",
    "#### 현재 1월 1일\n",
    "#### 판매 예측량을 충족하고 총비용 (상산비용 + 재고비용)을 최소화 하는 월별 생산량, 재고량 산출\n",
    "---"
   ]
  },
  {
   "cell_type": "markdown",
   "id": "25689a3e-98ae-4767-968b-bb02eb469f39",
   "metadata": {},
   "source": [
    "#### 변수\n",
    "- t : 월\n",
    "- ISTOCK : 기초재고\n",
    "- DEM : 월별 판매 예측량\n",
    "- CAP : 월별 생산 capa\n",
    "- CSTOCK : 대당 월별 재고 비용\n",
    "- CPROD : 대당 월별 생산 비용\n",
    "- COVER : 대당 월별 초과 생산 비용\n",
    "- store : 월별 재고량\n",
    "- prod : 월별 생산량\n",
    "- over : 월별 초과 생산량"
   ]
  },
  {
   "cell_type": "markdown",
   "id": "620efcca-b3be-4e7c-a1cf-7459680091fb",
   "metadata": {},
   "source": [
    "#### 목적식\n",
    "- $minimize \\sum_{t\\in MONTHS}(CPROD * prod_t + COVER * over_t + CSTOCK * store_t)$\n",
    "\n",
    "---\n",
    "#### 제약식\n",
    "- 생산, 판매, 재고 Balance 제약\n",
    "    - 1월 : $prod_1 + over_1 + ISTOCK = DEM_1 + store_1 $\n",
    "    - 2~12월 : $prod_t + over_t + store_{t-1} = DEM_t + store_t$\n",
    "- 생산 capa 제약\n",
    "    - $\\forall t \\in MONTHS : prod_t \\le CAP$\n",
    "    - $\\forall t \\in MONTHS : over_t \\le 0.5 * CAP$\n",
    "- non-negative 제약\n",
    "    - $\\forall t \\in MONTHS : prod_t \\ge 0, over_t \\ge 0, store_t \\ge 0$"
   ]
  },
  {
   "cell_type": "code",
   "execution_count": 2,
   "id": "5e5af78c-ec32-4a20-adee-4a62dc242e0e",
   "metadata": {},
   "outputs": [],
   "source": [
    "DEM = [30000, 15000, 15000, 25000, 33000, 40000, 45000, 45000, 26000, 14000, 25000, 30000]\n",
    "CPROD =  32\n",
    "COVER =  40\n",
    "CSTOCK =  5\n",
    "CAP =    30000\n",
    "ISTOCK =  2000\n",
    "MONTHS = [1,2,3,4,5,6,7,8,9,10,11,12]"
   ]
  },
  {
   "cell_type": "code",
   "execution_count": 3,
   "id": "54ca4a0f-2a45-47cd-8bac-247482a9ae65",
   "metadata": {},
   "outputs": [],
   "source": [
    "solver = pywraplp.Solver.CreateSolver('SCIP')\n",
    "infinity = solver.infinity()"
   ]
  },
  {
   "cell_type": "code",
   "execution_count": 4,
   "id": "119ae65b-e5f0-4634-983b-2b92805d9de4",
   "metadata": {},
   "outputs": [
    {
     "name": "stdout",
     "output_type": "stream",
     "text": [
      "Number of variables = 36\n"
     ]
    }
   ],
   "source": [
    "prod = {}\n",
    "over = {}\n",
    "store = {}\n",
    "for t in range(12):\n",
    "    prod[t] = solver.IntVar(0, infinity, 'prod[%i]' % t)\n",
    "    over[t] = solver.IntVar(0, infinity, 'over[%i]' % t)\n",
    "    store[t] = solver.IntVar(0, infinity, 'store[%i]' % t)\n",
    "print('Number of variables =', solver.NumVariables())"
   ]
  },
  {
   "cell_type": "code",
   "execution_count": 5,
   "id": "e1a87755-6f34-417d-bc07-004c3e194c88",
   "metadata": {},
   "outputs": [
    {
     "name": "stdout",
     "output_type": "stream",
     "text": [
      "Number of constraints = 12\n"
     ]
    }
   ],
   "source": [
    "for t in range(12):\n",
    "    if t == 0 :\n",
    "        solver.Add(prod[t] + over[t] + ISTOCK ==  DEM[t] + store[t])\n",
    "    else :\n",
    "        solver.Add(prod[t] + over[t] + store[t-1] == DEM[t] + store[t])\n",
    "\n",
    "print('Number of constraints =', solver.NumConstraints())\n",
    "        "
   ]
  },
  {
   "cell_type": "code",
   "execution_count": 6,
   "id": "6881e872-455d-4b89-943d-9deb653fa0ba",
   "metadata": {},
   "outputs": [
    {
     "name": "stdout",
     "output_type": "stream",
     "text": [
      "Number of constraints = 36\n"
     ]
    }
   ],
   "source": [
    "for t in range(12):\n",
    "    solver.Add(prod[t] <= CAP)\n",
    "    solver.Add(over[t] <= 0.5*CAP)\n",
    "\n",
    "print('Number of constraints =', solver.NumConstraints())"
   ]
  },
  {
   "cell_type": "code",
   "execution_count": 7,
   "id": "4c438166-a680-498f-b459-bf8f1e9817bd",
   "metadata": {},
   "outputs": [
    {
     "name": "stdout",
     "output_type": "stream",
     "text": [
      "Number of constraints = 72\n"
     ]
    }
   ],
   "source": [
    "for t in range(12):\n",
    "    solver.Add(prod[t] >= 0)\n",
    "    solver.Add(over[t] >= 0)\n",
    "    solver.Add(store[t] >= 0)\n",
    "\n",
    "print('Number of constraints =', solver.NumConstraints())"
   ]
  },
  {
   "cell_type": "code",
   "execution_count": 8,
   "id": "12dbebbd-56eb-47ce-8b73-fbf411e48485",
   "metadata": {},
   "outputs": [],
   "source": [
    "obj_exp = 0\n",
    "for t in range(12) :\n",
    "    obj_exp = obj_exp + CPROD*prod[t] + COVER*over[t] + CSTOCK*store[t]\n",
    "solver.Minimize(obj_exp)"
   ]
  },
  {
   "cell_type": "code",
   "execution_count": 9,
   "id": "48a477dc-b2b2-41d1-9f99-f32bda4cddd5",
   "metadata": {},
   "outputs": [
    {
     "data": {
      "text/plain": [
       "0"
      ]
     },
     "execution_count": 9,
     "metadata": {},
     "output_type": "execute_result"
    }
   ],
   "source": [
    "solver.Solve()"
   ]
  },
  {
   "cell_type": "code",
   "execution_count": 10,
   "id": "164cddf3-5b2f-4c8b-8ef3-e2520e256e6a",
   "metadata": {},
   "outputs": [
    {
     "name": "stdout",
     "output_type": "stream",
     "text": [
      "Initial Stock : 2000\n",
      "1 Demand : 30000 PROD : 28000.0 OVER : 0.0 STOCK : 0.0\n",
      "2 Demand : 15000 PROD : 15000.0 OVER : 0.0 STOCK : 0.0\n",
      "3 Demand : 15000 PROD : 15000.0 OVER : 0.0 STOCK : 0.0\n",
      "4 Demand : 25000 PROD : 28000.0 OVER : 0.0 STOCK : 3000.0\n",
      "5 Demand : 33000 PROD : 30000.0 OVER : 0.0 STOCK : 0.0\n",
      "6 Demand : 40000 PROD : 30000.0 OVER : 10000.0 STOCK : 0.0\n",
      "7 Demand : 45000 PROD : 30000.0 OVER : 15000.0 STOCK : 0.0\n",
      "8 Demand : 45000 PROD : 30000.0 OVER : 15000.0 STOCK : 0.0\n",
      "9 Demand : 26000 PROD : 26000.0 OVER : 0.0 STOCK : 0.0\n",
      "10 Demand : 14000 PROD : 14000.0 OVER : 0.0 STOCK : 0.0\n",
      "11 Demand : 25000 PROD : 25000.0 OVER : 0.0 STOCK : 0.0\n",
      "12 Demand : 30000 PROD : 30000.0 OVER : -0.0 STOCK : 0.0\n"
     ]
    }
   ],
   "source": [
    "print (\"Initial Stock : \" + str(ISTOCK))\n",
    "for t in range(12):\n",
    "    print(str(MONTHS[t]) + ' Demand : ' + str(DEM[t]) + ' PROD : ' + str(prod[t].solution_value()) + ' OVER : ' + str(over[t].solution_value()) \\\n",
    "          + ' STOCK : ' + str(store[t].solution_value()) )"
   ]
  },
  {
   "cell_type": "code",
   "execution_count": 11,
   "id": "f855388c-5e24-41ca-81be-f2ead603003d",
   "metadata": {},
   "outputs": [
    {
     "data": {
      "text/plain": [
       "11247000.0"
      ]
     },
     "execution_count": 11,
     "metadata": {},
     "output_type": "execute_result"
    }
   ],
   "source": [
    "solver.Objective().Value()"
   ]
  },
  {
   "cell_type": "code",
   "execution_count": null,
   "id": "1970837e-6936-40ce-87ff-73bbeb6685b1",
   "metadata": {},
   "outputs": [],
   "source": []
  }
 ],
 "metadata": {
  "kernelspec": {
   "display_name": "Python 3",
   "language": "python",
   "name": "python3"
  },
  "language_info": {
   "codemirror_mode": {
    "name": "ipython",
    "version": 3
   },
   "file_extension": ".py",
   "mimetype": "text/x-python",
   "name": "python",
   "nbconvert_exporter": "python",
   "pygments_lexer": "ipython3",
   "version": "3.9.15"
  }
 },
 "nbformat": 4,
 "nbformat_minor": 5
}
