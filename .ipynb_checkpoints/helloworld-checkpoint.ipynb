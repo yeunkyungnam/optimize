{
 "cells": [
  {
   "cell_type": "code",
   "execution_count": 1,
   "id": "d8b0fa64-fd57-4208-a23b-9d30897d0fa3",
   "metadata": {},
   "outputs": [],
   "source": [
    "# https://developers.google.com/optimization/mip/mip_example\n",
    "from ortools.linear_solver import pywraplp"
   ]
  },
  {
   "cell_type": "code",
   "execution_count": 2,
   "id": "be6d562e-e4c7-43bc-b5c8-06ad8a900de8",
   "metadata": {},
   "outputs": [],
   "source": [
    "# Create the mip solver with the SCIO backend\n",
    "solver = pywraplp.Solver.CreateSolver('SCIP')\n",
    "# if not solver:\n",
    "#     return"
   ]
  },
  {
   "cell_type": "code",
   "execution_count": 3,
   "id": "bc6d4803-8fdc-4c91-acee-28c00144131c",
   "metadata": {},
   "outputs": [
    {
     "name": "stdout",
     "output_type": "stream",
     "text": [
      "Number of variables =  2\n"
     ]
    }
   ],
   "source": [
    "infinity = solver.infinity()\n",
    "# x and y are integer non-negative variables.\n",
    "x = solver.IntVar(0.0, infinity, 'x')\n",
    "y = solver.IntVar(0.0, infinity, 'y')\n",
    "\n",
    "print('Number of variables = ', solver.NumVariables())"
   ]
  },
  {
   "cell_type": "code",
   "execution_count": 4,
   "id": "91f08b61-fdb2-4bed-9dd4-44a783d6d814",
   "metadata": {},
   "outputs": [
    {
     "name": "stdout",
     "output_type": "stream",
     "text": [
      "Number of constraints = 2\n"
     ]
    }
   ],
   "source": [
    "# x + 7 * y <= 17.5\n",
    "solver.Add(x + 7 * y <= 17.5)\n",
    "\n",
    "# x < 3.5\n",
    "solver.Add(x <= 3.5)\n",
    "\n",
    "print('Number of constraints =' , solver.NumConstraints())"
   ]
  },
  {
   "cell_type": "code",
   "execution_count": 5,
   "id": "0a75f7e9-9d24-4385-8374-3f61f0145946",
   "metadata": {},
   "outputs": [],
   "source": [
    "# Maximize x + 10 * y\n",
    "solver.Maximize(x + 10 * y)"
   ]
  },
  {
   "cell_type": "code",
   "execution_count": 6,
   "id": "e9adc5cf-c4d7-4860-ac32-054306dd1fe7",
   "metadata": {},
   "outputs": [],
   "source": [
    "status = solver.Solve()"
   ]
  },
  {
   "cell_type": "code",
   "execution_count": 7,
   "id": "0554f4b8-e5e7-41b4-bd9a-740429246c8b",
   "metadata": {},
   "outputs": [
    {
     "name": "stdout",
     "output_type": "stream",
     "text": [
      "Solution:\n",
      "Objective value = 23.0\n",
      "x = 3.0\n",
      "y = 2.0\n"
     ]
    }
   ],
   "source": [
    "if status == pywraplp.Solver.OPTIMAL:\n",
    "    print('Solution:')\n",
    "    print('Objective value =', solver.Objective().Value())\n",
    "    print('x =', x.solution_value())\n",
    "    print('y =', y.solution_value())\n",
    "else :\n",
    "    print('The problem does not have an optimal solution.')"
   ]
  },
  {
   "cell_type": "code",
   "execution_count": null,
   "id": "975c2f62-1b2c-4041-90eb-10e5a6a071ca",
   "metadata": {},
   "outputs": [],
   "source": []
  }
 ],
 "metadata": {
  "kernelspec": {
   "display_name": "Python 3",
   "language": "python",
   "name": "python3"
  },
  "language_info": {
   "codemirror_mode": {
    "name": "ipython",
    "version": 3
   },
   "file_extension": ".py",
   "mimetype": "text/x-python",
   "name": "python",
   "nbconvert_exporter": "python",
   "pygments_lexer": "ipython3",
   "version": "3.9.15"
  }
 },
 "nbformat": 4,
 "nbformat_minor": 5
}
