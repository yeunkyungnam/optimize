{
 "cells": [
  {
   "cell_type": "markdown",
   "metadata": {},
   "source": [
    "# Planning the production of bicycles\n",
    "---\n",
    "### 현재 2022년 12월 31일\n",
    "\n",
    "* 월별 판매 예측 (단위: 천 대)\n",
    "|Jan|Feb|Mar|Apr|May|Jun|Jul|Aug|Sep|Oct|Nov|Dec|\n",
    "|---:|---:|---:|---:|---:|---:|---:|---:|---:|---:|---:|---:|\n",
    "|30|15|15|25|33|40|45|45|26|14|25|30|\n",
    "* 생산가능량 월 30,000 대\n",
    "* 초과근무로 생산량 50% 증가 가능. 단, 생산단가 32＄에서 40＄로 증가\n",
    "* 기초재고 2000대\n",
    "* 재고비용 월별 대당 5＄ 발생\n",
    "* 창고 capa 무한\n",
    "---\n",
    "### **판매 예측량을 충족**하고 **비용(생산비용 + 재고비용)을 최소화** 하는 월별 생산량, 재고량 산출\n",
    "---"
   ]
  },
  {
   "cell_type": "code",
   "execution_count": 13,
   "metadata": {},
   "outputs": [],
   "source": [
    "from ortools.linear_solver import pywraplp"
   ]
  },
  {
   "cell_type": "code",
   "execution_count": 14,
   "metadata": {},
   "outputs": [],
   "source": [
    "solver = pywraplp.Solver.CreateSolver('SCIP')\n",
    "infinity = solver.infinity()"
   ]
  },
  {
   "cell_type": "markdown",
   "metadata": {},
   "source": [
    "### 변수\n",
    "#### Data\n",
    "- MONTHS : month index\n",
    "- DEM : 월별 판매 예측량\n",
    "- CAP : 월별 생산 capa\n",
    "- CPROD : 대당 월별 생산 비용\n",
    "- COVER : 대당 월별 초과 생산 비용\n",
    "- CSTOCK : 대당 월별 재고 비용\n",
    "- ISTOCK : 기초재고\n"
   ]
  },
  {
   "cell_type": "code",
   "execution_count": 15,
   "metadata": {},
   "outputs": [],
   "source": [
    "MONTHS = [\"Jan\", \"Feb\", \"Mar\", \"Apr\", \"May\", \"Jun\", \"Jul\", \"Aug\", \"Sep\", \"Oct\", \"Nov\", \"Dec\"]\n",
    "DEM = [30000, 15000, 15000, 25000, 33000, 40000, 45000, 45000, 26000, 14000, 25000, 30000]\n",
    "CPROD =  32\n",
    "COVER =  40\n",
    "CSTOCK =  5\n",
    "CAP =    30000\n",
    "ISTOCK =  2000"
   ]
  },
  {
   "cell_type": "markdown",
   "metadata": {},
   "source": [
    "#### Decision Variable\n",
    "- $prod_t$ : 월별 생산량\n",
    "- $over_t$ : 월별 초과 생산량\n",
    "- $store_t$ : 월별 재고량\n",
    "- $\\forall t \\in MONTHS :prod_t, over_t, store_t$ are Integer values\n",
    "- $\\forall t \\in MONTHS : prod_t \\ge 0, over_t \\ge 0, store_t \\ge 0$"
   ]
  },
  {
   "cell_type": "code",
   "execution_count": 16,
   "metadata": {},
   "outputs": [
    {
     "name": "stdout",
     "output_type": "stream",
     "text": [
      "Number of variables = 36\n"
     ]
    }
   ],
   "source": [
    "prod = {}\n",
    "over = {}\n",
    "store = {}\n",
    "for t in range(len(MONTHS)):\n",
    "    prod[t] = solver.IntVar(0, infinity, 'prod[%i]' % t)\n",
    "    over[t] = solver.IntVar(0, infinity, 'over[%i]' % t)\n",
    "    store[t] = solver.IntVar(0, infinity, 'store[%i]' % t)\n",
    "print('Number of variables =', solver.NumVariables())"
   ]
  },
  {
   "cell_type": "markdown",
   "metadata": {},
   "source": [
    "#### Constraints\n",
    "- 생산, 판매, 재고 Balance 제약\n",
    "    - $prod_1 + over_1 + ISTOCK = DEM_1 + store_1 $\n",
    "    - $\\forall t \\in MONTHS, t \\ne \"Jan\" : prod_t + over_t + store_{t-1} = DEM_t + store_t$"
   ]
  },
  {
   "cell_type": "code",
   "execution_count": 17,
   "metadata": {},
   "outputs": [],
   "source": [
    "for t in range(len(MONTHS)):\n",
    "    if t == 0 :\n",
    "        solver.Add(prod[t] + over[t] + ISTOCK >=  DEM[t] + store[t])\n",
    "    else :\n",
    "        solver.Add(prod[t] + over[t] + store[t-1] >= DEM[t] + store[t])"
   ]
  },
  {
   "cell_type": "markdown",
   "metadata": {},
   "source": [
    "- 생산 capa 제약\n",
    "    - $\\forall t \\in MONTHS : prod_t \\le CAP$\n",
    "    - $\\forall t \\in MONTHS : over_t \\le 0.5 * CAP$"
   ]
  },
  {
   "cell_type": "code",
   "execution_count": 18,
   "metadata": {},
   "outputs": [],
   "source": [
    "for t in range(len(MONTHS)):\n",
    "    solver.Add(prod[t] <= CAP)\n",
    "    solver.Add(over[t] <= 0.5*CAP)"
   ]
  },
  {
   "cell_type": "code",
   "execution_count": 19,
   "metadata": {},
   "outputs": [],
   "source": [
    "# 안전재고 제약 : 1000대 이상 안전재고 설정\n",
    "\n",
    "for t in range(len(MONTHS)):\n",
    "    solver.Add(store[t] >= 1000)"
   ]
  },
  {
   "cell_type": "code",
   "execution_count": 20,
   "metadata": {},
   "outputs": [
    {
     "name": "stdout",
     "output_type": "stream",
     "text": [
      "Number of constraints = 48\n"
     ]
    }
   ],
   "source": [
    "print('Number of constraints =', solver.NumConstraints())"
   ]
  },
  {
   "cell_type": "markdown",
   "metadata": {},
   "source": [
    "#### objective function\n",
    "- $minimize \\sum_{t\\in MONTHS}(CPROD * prod_t + COVER * over_t + CSTOCK * store_t)$"
   ]
  },
  {
   "cell_type": "code",
   "execution_count": 21,
   "metadata": {},
   "outputs": [],
   "source": [
    "obj_exp = 0\n",
    "for t in range(12) :\n",
    "    obj_exp = obj_exp + CPROD*prod[t] + COVER*over[t] + CSTOCK*store[t]\n",
    "solver.Minimize(obj_exp)"
   ]
  },
  {
   "cell_type": "code",
   "execution_count": 22,
   "metadata": {},
   "outputs": [
    {
     "data": {
      "text/plain": [
       "0"
      ]
     },
     "execution_count": 22,
     "metadata": {},
     "output_type": "execute_result"
    }
   ],
   "source": [
    "solver.Solve()"
   ]
  },
  {
   "cell_type": "code",
   "execution_count": 23,
   "metadata": {},
   "outputs": [
    {
     "name": "stdout",
     "output_type": "stream",
     "text": [
      "Mon\tDemand\tProd\tOver\tStock\n",
      "init\t\t\t\t2000\n",
      "Jan\t30000\t29000.0\t0.0\t1000.0\n",
      "Feb\t15000\t15000.0\t0.0\t1000.0\n",
      "Mar\t15000\t15000.0\t0.0\t1000.0\n",
      "Apr\t25000\t28000.0\t0.0\t4000.0\n",
      "May\t33000\t30000.0\t0.0\t1000.0\n",
      "Jun\t40000\t30000.0\t10000.0\t1000.0\n",
      "Jul\t45000\t30000.0\t15000.0\t1000.0\n",
      "Aug\t45000\t30000.0\t15000.0\t1000.0\n",
      "Sep\t26000\t26000.0\t0.0\t1000.0\n",
      "Oct\t14000\t14000.0\t0.0\t1000.0\n",
      "Nov\t25000\t25000.0\t0.0\t1000.0\n",
      "Dec\t30000\t30000.0\t0.0\t1000.0\n"
     ]
    }
   ],
   "source": [
    "print (\"Mon\\tDemand\\tProd\\tOver\\tStock\")\n",
    "print (\"init\\t\\t\\t\\t\" + str(ISTOCK))\n",
    "for t in range(12):\n",
    "    print(str(MONTHS[t]) + '\\t' + str(DEM[t]) + '\\t' + str(prod[t].solution_value()) + '\\t' + str(over[t].solution_value()) \\\n",
    "          + '\\t' + str(store[t].solution_value()) )"
   ]
  },
  {
   "cell_type": "code",
   "execution_count": 24,
   "metadata": {},
   "outputs": [
    {
     "data": {
      "text/plain": [
       "11339000.0"
      ]
     },
     "execution_count": 24,
     "metadata": {},
     "output_type": "execute_result"
    }
   ],
   "source": [
    "solver.Objective().Value()"
   ]
  },
  {
   "cell_type": "code",
   "execution_count": null,
   "metadata": {},
   "outputs": [],
   "source": []
  }
 ],
 "metadata": {
  "kernelspec": {
   "display_name": "Python 3",
   "language": "python",
   "name": "python3"
  },
  "language_info": {
   "codemirror_mode": {
    "name": "ipython",
    "version": 3
   },
   "file_extension": ".py",
   "mimetype": "text/x-python",
   "name": "python",
   "nbconvert_exporter": "python",
   "pygments_lexer": "ipython3",
   "version": "3.8.5"
  }
 },
 "nbformat": 4,
 "nbformat_minor": 5
}
