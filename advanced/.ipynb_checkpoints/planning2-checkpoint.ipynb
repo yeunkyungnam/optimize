{
 "cells": [
  {
   "cell_type": "code",
   "execution_count": 1,
   "metadata": {},
   "outputs": [],
   "source": [
    "from ortools.linear_solver import pywraplp\n",
    "import openpyxl\n",
    "import os\n",
    "import sys\n",
    "import time\n",
    "import datetime\n",
    "from datetime import datetime as dt\n",
    "\n",
    "import matplotlib as mpl\n",
    "import matplotlib.pyplot as plt\n",
    "import matplotlib.ticker\n",
    "import numpy as np\n",
    "import pandas as pd"
   ]
  },
  {
   "cell_type": "code",
   "execution_count": 2,
   "metadata": {},
   "outputs": [],
   "source": [
    "solver = pywraplp.Solver.CreateSolver('GLOP')\n",
    "solver.EnableOutput()\n",
    "# solver.SetNumThreads(10)"
   ]
  },
  {
   "cell_type": "code",
   "execution_count": 3,
   "metadata": {},
   "outputs": [],
   "source": [
    "path = './data2/'"
   ]
  },
  {
   "cell_type": "code",
   "execution_count": 4,
   "metadata": {},
   "outputs": [
    {
     "name": "stdout",
     "output_type": "stream",
     "text": [
      "Start : 2023-Jan-31 17:48:25.282902\n",
      "End : 2023-Jan-31 17:48:29.086181\n",
      "Load Data :0:00:03.803279\n"
     ]
    }
   ],
   "source": [
    "startDateTime = dt.now()\n",
    "print(\"Start : \" + startDateTime.strftime(\"%Y-%b-%d %H:%M:%S.%f\"))\n",
    "\n",
    "DEM = pd.read_excel(path+'dataLarge.xlsx',sheet_name='DEM')\n",
    "CAPA = pd.read_excel(path+'dataLarge.xlsx',sheet_name='CAPA')\n",
    "PCOST = pd.read_excel(path+'dataLarge.xlsx',sheet_name='PCOST')\n",
    "SCOST = pd.read_excel(path+'dataLarge.xlsx',sheet_name='SCOST')\n",
    "ISTOCK = pd.read_excel(path+'dataLarge.xlsx',sheet_name='ISTOCK')\n",
    "ITEM = DEM['ITEM'].drop_duplicates().to_list()\n",
    "RES = CAPA['RES'].drop_duplicates().to_list()\n",
    "TIME = DEM['TIME'].drop_duplicates().to_list()\n",
    "\n",
    "endDateTime = dt.now()\n",
    "print(\"End : \" + endDateTime.strftime(\"%Y-%b-%d %H:%M:%S.%f\"))\n",
    "print(\"Load Data :\" + str(endDateTime-startDateTime))"
   ]
  },
  {
   "cell_type": "code",
   "execution_count": 5,
   "metadata": {},
   "outputs": [
    {
     "name": "stdout",
     "output_type": "stream",
     "text": [
      "Start : 2023-Jan-31 17:48:29.090810\n",
      "Number of variables = 5050000\n"
     ]
    }
   ],
   "source": [
    "startDateTime = dt.now()\n",
    "print(\"Start : \" + startDateTime.strftime(\"%Y-%b-%d %H:%M:%S.%f\"))\n",
    "\n",
    "prodqty = {}\n",
    "storeqty = {}\n",
    "\n",
    "for i in range(len(ITEM)):\n",
    "    prodqty[i]=[[solver.NumVar(0, solver.infinity(), 'prodqty[%i][%i][%i]' %(i,j,k)) for k in range(len(TIME))] for j in range(len(RES))]\n",
    "\n",
    "for i in range(len(ITEM)):\n",
    "    storeqty[i] = [solver.NumVar(0, solver.infinity(), 'storeqty[%i][%i]' %(i,k)) for k in range(len(TIME))]\n",
    "        \n",
    "print('Number of variables =', solver.NumVariables())"
   ]
  },
  {
   "cell_type": "markdown",
   "metadata": {},
   "source": [
    "### demand constraint"
   ]
  },
  {
   "cell_type": "code",
   "execution_count": 6,
   "metadata": {},
   "outputs": [],
   "source": [
    "for i in range(len(ITEM)) :\n",
    "    for k in range(len(TIME)):\n",
    "        if k == 0 :\n",
    "            solver.Add(solver.Sum(prodqty[i][j][k] for j in range(len(RES)))  == int(DEM[(DEM['ITEM']==i+1)&(DEM['TIME']==k+1)].reset_index()['DEM'][0]) - int(ISTOCK[ISTOCK['ITEM']==i+1].reset_index()['ISTOCK'][0]))\n",
    "        else :\n",
    "            solver.Add(solver.Sum(prodqty[i][j][k] for j in range(len(RES))) + storeqty[i][k-1] - storeqty[i][k] == int(DEM[(DEM['ITEM']==i+1)&(DEM['TIME']==k+1)].reset_index()['DEM'][0]))\n",
    "    "
   ]
  },
  {
   "cell_type": "markdown",
   "metadata": {},
   "source": [
    "### capa"
   ]
  },
  {
   "cell_type": "code",
   "execution_count": 7,
   "metadata": {},
   "outputs": [],
   "source": [
    "for j in range(len(RES)):\n",
    "    for k in range(len(TIME)):\n",
    "        solver.Add(solver.Sum(prodqty[i][j][k] for i in range(len(ITEM))) <= int(CAPA[(CAPA['RES']==j+1)&(CAPA['TIME']==k+1)].reset_index()['CAPA'][0]) )"
   ]
  },
  {
   "cell_type": "code",
   "execution_count": 8,
   "metadata": {},
   "outputs": [
    {
     "name": "stdout",
     "output_type": "stream",
     "text": [
      "Number of constraints = 55000\n",
      "End : 2023-Jan-31 17:49:21.902761\n",
      "Make Constraints:0:00:52.811951\n"
     ]
    }
   ],
   "source": [
    "print('Number of constraints =', solver.NumConstraints())\n",
    "\n",
    "endDateTime = dt.now()\n",
    "print(\"End : \" + endDateTime.strftime(\"%Y-%b-%d %H:%M:%S.%f\"))\n",
    "print(\"Make Constraints:\" + str(endDateTime-startDateTime))"
   ]
  },
  {
   "cell_type": "markdown",
   "metadata": {},
   "source": [
    "### Objective"
   ]
  },
  {
   "cell_type": "code",
   "execution_count": 9,
   "metadata": {},
   "outputs": [
    {
     "name": "stdout",
     "output_type": "stream",
     "text": [
      "Start : 2023-Jan-31 17:49:21.907435\n"
     ]
    },
    {
     "ename": "KeyError",
     "evalue": "0",
     "output_type": "error",
     "traceback": [
      "\u001b[0;31m---------------------------------------------------------------------------\u001b[0m",
      "\u001b[0;31mValueError\u001b[0m                                Traceback (most recent call last)",
      "\u001b[0;32m/opt/anaconda/anaconda3/envs/opt/lib/python3.9/site-packages/pandas/core/indexes/range.py\u001b[0m in \u001b[0;36mget_loc\u001b[0;34m(self, key, method, tolerance)\u001b[0m\n\u001b[1;32m    384\u001b[0m                 \u001b[0;32mtry\u001b[0m\u001b[0;34m:\u001b[0m\u001b[0;34m\u001b[0m\u001b[0;34m\u001b[0m\u001b[0m\n\u001b[0;32m--> 385\u001b[0;31m                     \u001b[0;32mreturn\u001b[0m \u001b[0mself\u001b[0m\u001b[0;34m.\u001b[0m\u001b[0m_range\u001b[0m\u001b[0;34m.\u001b[0m\u001b[0mindex\u001b[0m\u001b[0;34m(\u001b[0m\u001b[0mnew_key\u001b[0m\u001b[0;34m)\u001b[0m\u001b[0;34m\u001b[0m\u001b[0;34m\u001b[0m\u001b[0m\n\u001b[0m\u001b[1;32m    386\u001b[0m                 \u001b[0;32mexcept\u001b[0m \u001b[0mValueError\u001b[0m \u001b[0;32mas\u001b[0m \u001b[0merr\u001b[0m\u001b[0;34m:\u001b[0m\u001b[0;34m\u001b[0m\u001b[0;34m\u001b[0m\u001b[0m\n",
      "\u001b[0;31mValueError\u001b[0m: 0 is not in range",
      "\nThe above exception was the direct cause of the following exception:\n",
      "\u001b[0;31mKeyError\u001b[0m                                  Traceback (most recent call last)",
      "\u001b[0;32m<ipython-input-9-c0a8295de92d>\u001b[0m in \u001b[0;36m<module>\u001b[0;34m\u001b[0m\n\u001b[1;32m      7\u001b[0m     \u001b[0;32mfor\u001b[0m \u001b[0mj\u001b[0m \u001b[0;32min\u001b[0m \u001b[0mrange\u001b[0m\u001b[0;34m(\u001b[0m\u001b[0mlen\u001b[0m\u001b[0;34m(\u001b[0m\u001b[0mRES\u001b[0m\u001b[0;34m)\u001b[0m\u001b[0;34m)\u001b[0m\u001b[0;34m:\u001b[0m\u001b[0;34m\u001b[0m\u001b[0;34m\u001b[0m\u001b[0m\n\u001b[1;32m      8\u001b[0m         \u001b[0;32mfor\u001b[0m \u001b[0mk\u001b[0m \u001b[0;32min\u001b[0m \u001b[0mrange\u001b[0m\u001b[0;34m(\u001b[0m\u001b[0mlen\u001b[0m\u001b[0;34m(\u001b[0m\u001b[0mTIME\u001b[0m\u001b[0;34m)\u001b[0m\u001b[0;34m)\u001b[0m\u001b[0;34m:\u001b[0m\u001b[0;34m\u001b[0m\u001b[0;34m\u001b[0m\u001b[0m\n\u001b[0;32m----> 9\u001b[0;31m             \u001b[0mobj_exp\u001b[0m \u001b[0;34m=\u001b[0m \u001b[0mobj_exp\u001b[0m \u001b[0;34m+\u001b[0m \u001b[0mprodqty\u001b[0m\u001b[0;34m[\u001b[0m\u001b[0mi\u001b[0m\u001b[0;34m]\u001b[0m\u001b[0;34m[\u001b[0m\u001b[0mj\u001b[0m\u001b[0;34m]\u001b[0m\u001b[0;34m[\u001b[0m\u001b[0mk\u001b[0m\u001b[0;34m]\u001b[0m \u001b[0;34m+\u001b[0m \u001b[0mint\u001b[0m\u001b[0;34m(\u001b[0m\u001b[0mPCOST\u001b[0m\u001b[0;34m[\u001b[0m\u001b[0;34m(\u001b[0m\u001b[0mPCOST\u001b[0m\u001b[0;34m[\u001b[0m\u001b[0;34m'ITEM'\u001b[0m\u001b[0;34m]\u001b[0m\u001b[0;34m==\u001b[0m\u001b[0mi\u001b[0m\u001b[0;34m+\u001b[0m\u001b[0;36m1\u001b[0m\u001b[0;34m)\u001b[0m\u001b[0;34m&\u001b[0m\u001b[0;34m(\u001b[0m\u001b[0mPCOST\u001b[0m\u001b[0;34m[\u001b[0m\u001b[0;34m'RES'\u001b[0m\u001b[0;34m]\u001b[0m\u001b[0;34m==\u001b[0m\u001b[0mj\u001b[0m\u001b[0;34m+\u001b[0m\u001b[0;36m1\u001b[0m\u001b[0;34m)\u001b[0m\u001b[0;34m]\u001b[0m\u001b[0;34m.\u001b[0m\u001b[0mreset_index\u001b[0m\u001b[0;34m(\u001b[0m\u001b[0;34m)\u001b[0m\u001b[0;34m[\u001b[0m\u001b[0;34m'PCOST'\u001b[0m\u001b[0;34m]\u001b[0m\u001b[0;34m[\u001b[0m\u001b[0;36m0\u001b[0m\u001b[0;34m]\u001b[0m\u001b[0;34m)\u001b[0m \u001b[0;34m+\u001b[0m \u001b[0mstoreqty\u001b[0m\u001b[0;34m[\u001b[0m\u001b[0mi\u001b[0m\u001b[0;34m]\u001b[0m\u001b[0;34m[\u001b[0m\u001b[0mk\u001b[0m\u001b[0;34m]\u001b[0m \u001b[0;34m*\u001b[0m \u001b[0mint\u001b[0m\u001b[0;34m(\u001b[0m\u001b[0mSCOST\u001b[0m\u001b[0;34m[\u001b[0m\u001b[0mSCOST\u001b[0m\u001b[0;34m[\u001b[0m\u001b[0;34m'ITEM'\u001b[0m\u001b[0;34m]\u001b[0m\u001b[0;34m==\u001b[0m\u001b[0mi\u001b[0m\u001b[0;34m+\u001b[0m\u001b[0;36m1\u001b[0m\u001b[0;34m]\u001b[0m\u001b[0;34m.\u001b[0m\u001b[0mreset_index\u001b[0m\u001b[0;34m(\u001b[0m\u001b[0;34m)\u001b[0m\u001b[0;34m[\u001b[0m\u001b[0;34m'SCOST'\u001b[0m\u001b[0;34m]\u001b[0m\u001b[0;34m[\u001b[0m\u001b[0;36m0\u001b[0m\u001b[0;34m]\u001b[0m\u001b[0;34m)\u001b[0m\u001b[0;34m\u001b[0m\u001b[0;34m\u001b[0m\u001b[0m\n\u001b[0m\u001b[1;32m     10\u001b[0m \u001b[0;34m\u001b[0m\u001b[0m\n\u001b[1;32m     11\u001b[0m \u001b[0mendDateTime\u001b[0m \u001b[0;34m=\u001b[0m \u001b[0mdt\u001b[0m\u001b[0;34m.\u001b[0m\u001b[0mnow\u001b[0m\u001b[0;34m(\u001b[0m\u001b[0;34m)\u001b[0m\u001b[0;34m\u001b[0m\u001b[0;34m\u001b[0m\u001b[0m\n",
      "\u001b[0;32m/opt/anaconda/anaconda3/envs/opt/lib/python3.9/site-packages/pandas/core/series.py\u001b[0m in \u001b[0;36m__getitem__\u001b[0;34m(self, key)\u001b[0m\n\u001b[1;32m    940\u001b[0m \u001b[0;34m\u001b[0m\u001b[0m\n\u001b[1;32m    941\u001b[0m         \u001b[0;32melif\u001b[0m \u001b[0mkey_is_scalar\u001b[0m\u001b[0;34m:\u001b[0m\u001b[0;34m\u001b[0m\u001b[0;34m\u001b[0m\u001b[0m\n\u001b[0;32m--> 942\u001b[0;31m             \u001b[0;32mreturn\u001b[0m \u001b[0mself\u001b[0m\u001b[0;34m.\u001b[0m\u001b[0m_get_value\u001b[0m\u001b[0;34m(\u001b[0m\u001b[0mkey\u001b[0m\u001b[0;34m)\u001b[0m\u001b[0;34m\u001b[0m\u001b[0;34m\u001b[0m\u001b[0m\n\u001b[0m\u001b[1;32m    943\u001b[0m \u001b[0;34m\u001b[0m\u001b[0m\n\u001b[1;32m    944\u001b[0m         \u001b[0;32mif\u001b[0m \u001b[0mis_hashable\u001b[0m\u001b[0;34m(\u001b[0m\u001b[0mkey\u001b[0m\u001b[0;34m)\u001b[0m\u001b[0;34m:\u001b[0m\u001b[0;34m\u001b[0m\u001b[0;34m\u001b[0m\u001b[0m\n",
      "\u001b[0;32m/opt/anaconda/anaconda3/envs/opt/lib/python3.9/site-packages/pandas/core/series.py\u001b[0m in \u001b[0;36m_get_value\u001b[0;34m(self, label, takeable)\u001b[0m\n\u001b[1;32m   1049\u001b[0m \u001b[0;34m\u001b[0m\u001b[0m\n\u001b[1;32m   1050\u001b[0m         \u001b[0;31m# Similar to Index.get_value, but we do not fall back to positional\u001b[0m\u001b[0;34m\u001b[0m\u001b[0;34m\u001b[0m\u001b[0m\n\u001b[0;32m-> 1051\u001b[0;31m         \u001b[0mloc\u001b[0m \u001b[0;34m=\u001b[0m \u001b[0mself\u001b[0m\u001b[0;34m.\u001b[0m\u001b[0mindex\u001b[0m\u001b[0;34m.\u001b[0m\u001b[0mget_loc\u001b[0m\u001b[0;34m(\u001b[0m\u001b[0mlabel\u001b[0m\u001b[0;34m)\u001b[0m\u001b[0;34m\u001b[0m\u001b[0;34m\u001b[0m\u001b[0m\n\u001b[0m\u001b[1;32m   1052\u001b[0m         \u001b[0;32mreturn\u001b[0m \u001b[0mself\u001b[0m\u001b[0;34m.\u001b[0m\u001b[0mindex\u001b[0m\u001b[0;34m.\u001b[0m\u001b[0m_get_values_for_loc\u001b[0m\u001b[0;34m(\u001b[0m\u001b[0mself\u001b[0m\u001b[0;34m,\u001b[0m \u001b[0mloc\u001b[0m\u001b[0;34m,\u001b[0m \u001b[0mlabel\u001b[0m\u001b[0;34m)\u001b[0m\u001b[0;34m\u001b[0m\u001b[0;34m\u001b[0m\u001b[0m\n\u001b[1;32m   1053\u001b[0m \u001b[0;34m\u001b[0m\u001b[0m\n",
      "\u001b[0;32m/opt/anaconda/anaconda3/envs/opt/lib/python3.9/site-packages/pandas/core/indexes/range.py\u001b[0m in \u001b[0;36mget_loc\u001b[0;34m(self, key, method, tolerance)\u001b[0m\n\u001b[1;32m    385\u001b[0m                     \u001b[0;32mreturn\u001b[0m \u001b[0mself\u001b[0m\u001b[0;34m.\u001b[0m\u001b[0m_range\u001b[0m\u001b[0;34m.\u001b[0m\u001b[0mindex\u001b[0m\u001b[0;34m(\u001b[0m\u001b[0mnew_key\u001b[0m\u001b[0;34m)\u001b[0m\u001b[0;34m\u001b[0m\u001b[0;34m\u001b[0m\u001b[0m\n\u001b[1;32m    386\u001b[0m                 \u001b[0;32mexcept\u001b[0m \u001b[0mValueError\u001b[0m \u001b[0;32mas\u001b[0m \u001b[0merr\u001b[0m\u001b[0;34m:\u001b[0m\u001b[0;34m\u001b[0m\u001b[0;34m\u001b[0m\u001b[0m\n\u001b[0;32m--> 387\u001b[0;31m                     \u001b[0;32mraise\u001b[0m \u001b[0mKeyError\u001b[0m\u001b[0;34m(\u001b[0m\u001b[0mkey\u001b[0m\u001b[0;34m)\u001b[0m \u001b[0;32mfrom\u001b[0m \u001b[0merr\u001b[0m\u001b[0;34m\u001b[0m\u001b[0;34m\u001b[0m\u001b[0m\n\u001b[0m\u001b[1;32m    388\u001b[0m             \u001b[0;32mraise\u001b[0m \u001b[0mKeyError\u001b[0m\u001b[0;34m(\u001b[0m\u001b[0mkey\u001b[0m\u001b[0;34m)\u001b[0m\u001b[0;34m\u001b[0m\u001b[0;34m\u001b[0m\u001b[0m\n\u001b[1;32m    389\u001b[0m         \u001b[0;32mreturn\u001b[0m \u001b[0msuper\u001b[0m\u001b[0;34m(\u001b[0m\u001b[0;34m)\u001b[0m\u001b[0;34m.\u001b[0m\u001b[0mget_loc\u001b[0m\u001b[0;34m(\u001b[0m\u001b[0mkey\u001b[0m\u001b[0;34m,\u001b[0m \u001b[0mmethod\u001b[0m\u001b[0;34m=\u001b[0m\u001b[0mmethod\u001b[0m\u001b[0;34m,\u001b[0m \u001b[0mtolerance\u001b[0m\u001b[0;34m=\u001b[0m\u001b[0mtolerance\u001b[0m\u001b[0;34m)\u001b[0m\u001b[0;34m\u001b[0m\u001b[0;34m\u001b[0m\u001b[0m\n",
      "\u001b[0;31mKeyError\u001b[0m: 0"
     ]
    }
   ],
   "source": [
    "startDateTime = dt.now()\n",
    "print(\"Start : \" + startDateTime.strftime(\"%Y-%b-%d %H:%M:%S.%f\"))\n",
    "\n",
    "obj_exp = 0\n",
    "# obj = solver.Sum(((prodqty[i][j][k] * PCOST[(PCOST['ITEM']==i+1)&(PCOST['RES']==j+1)].reset_index()['PCOST'] for i in range(len(ITEM))) for j in range(len(RES))) for k in range(len(TIME)))\n",
    "for i in range(len(ITEM)):\n",
    "    for j in range(len(RES)):\n",
    "        for k in range(len(TIME)):\n",
    "            obj_exp = obj_exp + prodqty[i][j][k] * int(PCOST[(PCOST['ITEM']==i+1)&(PCOST['RES']==j+1)].reset_index()['PCOST'][0]) + storeqty[i][k] * int(SCOST[SCOST['ITEM']==i+1].reset_index()['SCOST'][0])\n",
    "            \n",
    "endDateTime = dt.now()\n",
    "print(\"End : \" + endDateTime.strftime(\"%Y-%b-%d %H:%M:%S.%f\"))\n",
    "print(\"Make Objective:\" + str(endDateTime-startDateTime))"
   ]
  },
  {
   "cell_type": "code",
   "execution_count": null,
   "metadata": {},
   "outputs": [],
   "source": [
    "startDateTime = dt.now()\n",
    "print(\"Start : \" + startDateTime.strftime(\"%Y-%b-%d %H:%M:%S.%f\"))\n",
    "\n",
    "solver.Minimize(obj_exp)\n",
    "solver.Solve()\n",
    "\n",
    "endDateTime = dt.now()\n",
    "print(\"Solve Problem : \" + endDateTime.strftime(\"%Y-%b-%d %H:%M:%S.%f\"))\n",
    "print(endDateTime-startDateTime)"
   ]
  },
  {
   "cell_type": "code",
   "execution_count": null,
   "metadata": {},
   "outputs": [],
   "source": [
    "# for i in range(len(ITEM)):\n",
    "#     for j in range(len(RES)):\n",
    "#         for k in range(len(TIME)):\n",
    "#             print (\"ITEM %i, RES %i, WEEK %i \" %(i+1,j+1,k+1) )\n",
    "#             print (\"Prod Qty\",prodqty[i][j][k].solution_value())"
   ]
  },
  {
   "cell_type": "code",
   "execution_count": null,
   "metadata": {},
   "outputs": [],
   "source": [
    "# solver.Objective().Value()"
   ]
  },
  {
   "cell_type": "code",
   "execution_count": null,
   "metadata": {},
   "outputs": [],
   "source": [
    "startDateTime = dt.now()\n",
    "print(\"Start : \" + startDateTime.strftime(\"%Y-%b-%d %H:%M:%S.%f\"))\n",
    "\n",
    "arr_prod = np.empty((0,4), int)\n",
    "for i in range(len(ITEM)):\n",
    "    for j in range(len(RES)):\n",
    "        for k in range(len(TIME)):\n",
    "           arr_prod = np.append(arr_prod,np.array([[i+1,j+1,k+1,prodqty[i][j][k].solution_value()]]), axis=0)\n",
    "\n",
    "df_prod= pd.DataFrame(arr_prod,columns = ['ITEM','RES','TIME','PROD'])\n",
    "\n",
    "arr_store = np.empty((0,3), int)\n",
    "for i in range(len(ITEM)):\n",
    "    for k in range(len(TIME)):\n",
    "        arr_store = np.append(arr_store,np.array([[i+1,k+1,storeqty[i][k].solution_value()]]), axis=0)\n",
    "\n",
    "df_store = pd.DataFrame(arr_store,columns = ['ITEM','TIME','STORE'])\n",
    "\n",
    "df_prod.to_csv(path+'prodqty.csv',index=False)\n",
    "df_store.to_csv(path+'storeqty.csv',index=False)\n",
    "\n",
    "    \n",
    "endDateTime = dt.now()\n",
    "print(\"Write output : \" + endDateTime.strftime(\"%Y-%b-%d %H:%M:%S.%f\"))\n",
    "print(endDateTime-startDateTime)"
   ]
  },
  {
   "cell_type": "code",
   "execution_count": null,
   "metadata": {},
   "outputs": [],
   "source": []
  }
 ],
 "metadata": {
  "kernelspec": {
   "display_name": "opt",
   "language": "python",
   "name": "opt"
  },
  "language_info": {
   "codemirror_mode": {
    "name": "ipython",
    "version": 3
   },
   "file_extension": ".py",
   "mimetype": "text/x-python",
   "name": "python",
   "nbconvert_exporter": "python",
   "pygments_lexer": "ipython3",
   "version": "3.9.16"
  }
 },
 "nbformat": 4,
 "nbformat_minor": 4
}
