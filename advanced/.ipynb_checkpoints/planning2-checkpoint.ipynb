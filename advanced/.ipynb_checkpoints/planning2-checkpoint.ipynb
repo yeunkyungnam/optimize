{
 "cells": [
  {
   "cell_type": "code",
   "execution_count": 1,
   "metadata": {},
   "outputs": [],
   "source": [
    "from ortools.linear_solver import pywraplp\n",
    "import openpyxl\n",
    "import os\n",
    "import sys\n",
    "import time\n",
    "import datetime\n",
    "from datetime import datetime as dt\n",
    "\n",
    "import matplotlib as mpl\n",
    "import matplotlib.pyplot as plt\n",
    "import matplotlib.ticker\n",
    "import numpy as np\n",
    "import pandas as pd"
   ]
  },
  {
   "cell_type": "code",
   "execution_count": 2,
   "metadata": {},
   "outputs": [],
   "source": [
    "solver = pywraplp.Solver.CreateSolver('GLOP')\n",
    "solver.EnableOutput()\n",
    "# solver.SetNumThreads(10)"
   ]
  },
  {
   "cell_type": "code",
   "execution_count": 3,
   "metadata": {},
   "outputs": [],
   "source": [
    "path = './data2/'\n"
   ]
  },
  {
   "cell_type": "code",
   "execution_count": 4,
   "metadata": {},
   "outputs": [
    {
     "name": "stdout",
     "output_type": "stream",
     "text": [
      "Start : 2023-Jan-31 14:38:13.663361\n",
      "End : 2023-Jan-31 14:38:17.466963\n",
      "Load Data :0:00:03.803602\n"
     ]
    }
   ],
   "source": [
    "startDateTime = dt.now()\n",
    "print(\"Start : \" + startDateTime.strftime(\"%Y-%b-%d %H:%M:%S.%f\"))\n",
    "\n",
    "DEM = pd.read_excel(path+'dataLarge.xlsx',sheet_name='DEM')\n",
    "CAPA = pd.read_excel(path+'dataLarge.xlsx',sheet_name='CAPA')\n",
    "PCOST = pd.read_excel(path+'dataLarge.xlsx',sheet_name='PCOST')\n",
    "SCOST = pd.read_excel(path+'dataLarge.xlsx',sheet_name='SCOST')\n",
    "ISTOCK = pd.read_excel(path+'dataLarge.xlsx',sheet_name='ISTOCK')\n",
    "ITEM = DEM['ITEM'].drop_duplicates().to_list()\n",
    "RES = CAPA['RES'].drop_duplicates().to_list()\n",
    "TIME = DEM['TIME'].drop_duplicates().to_list()\n",
    "\n",
    "endDateTime = dt.now()\n",
    "print(\"End : \" + endDateTime.strftime(\"%Y-%b-%d %H:%M:%S.%f\"))\n",
    "print(\"Load Data :\" + str(endDateTime-startDateTime))"
   ]
  },
  {
   "cell_type": "code",
   "execution_count": 5,
   "metadata": {},
   "outputs": [
    {
     "name": "stdout",
     "output_type": "stream",
     "text": [
      "Start : 2023-Jan-31 14:38:17.471846\n",
      "Number of variables = 5050000\n"
     ]
    }
   ],
   "source": [
    "startDateTime = dt.now()\n",
    "print(\"Start : \" + startDateTime.strftime(\"%Y-%b-%d %H:%M:%S.%f\"))\n",
    "\n",
    "prodqty = {}\n",
    "storeqty = {}\n",
    "\n",
    "for i in range(len(ITEM)):\n",
    "    prodqty[i]=[[solver.NumVar(0, solver.infinity(), 'prodqty[%i][%i][%i]' %(i,j,k)) for k in range(len(TIME))] for j in range(len(RES))]\n",
    "\n",
    "for i in range(len(ITEM)):\n",
    "    storeqty[i] = [solver.NumVar(0, solver.infinity(), 'storeqty[%i][%i]' %(i,k)) for k in range(len(TIME))]\n",
    "        \n",
    "print('Number of variables =', solver.NumVariables())"
   ]
  },
  {
   "cell_type": "markdown",
   "metadata": {},
   "source": [
    "### demand constraint"
   ]
  },
  {
   "cell_type": "code",
   "execution_count": 6,
   "metadata": {},
   "outputs": [],
   "source": [
    "for i in range(len(ITEM)) :\n",
    "    for k in range(len(TIME)):\n",
    "        if k == 0 :\n",
    "            solver.Add(solver.Sum(prodqty[i][j][k] for j in range(len(RES)))  == int(DEM[(DEM['ITEM']==i+1)&(DEM['TIME']==k+1)].reset_index()['DEM'][0]) - int(ISTOCK[ISTOCK['ITEM']==i+1].reset_index()['ISTOCK'][0]))\n",
    "        else :\n",
    "            solver.Add(solver.Sum(prodqty[i][j][k] for j in range(len(RES))) + storeqty[i][k-1] - storeqty[i][k] == int(DEM[(DEM['ITEM']==i+1)&(DEM['TIME']==k+1)].reset_index()['DEM'][0]))\n",
    "    "
   ]
  },
  {
   "cell_type": "markdown",
   "metadata": {},
   "source": [
    "### capa"
   ]
  },
  {
   "cell_type": "code",
   "execution_count": 7,
   "metadata": {},
   "outputs": [],
   "source": [
    "for j in range(len(RES)):\n",
    "    for k in range(len(TIME)):\n",
    "        solver.Add(solver.Sum(prodqty[i][j][k] for i in range(len(ITEM))) <= int(CAPA[(CAPA['RES']==j+1)&(CAPA['TIME']==k+1)].reset_index()['CAPA'][0]) )"
   ]
  },
  {
   "cell_type": "code",
   "execution_count": 8,
   "metadata": {},
   "outputs": [
    {
     "name": "stdout",
     "output_type": "stream",
     "text": [
      "Number of constraints = 55000\n",
      "End : 2023-Jan-31 14:39:08.977186\n",
      "Make Constraints:0:00:51.505340\n"
     ]
    }
   ],
   "source": [
    "print('Number of constraints =', solver.NumConstraints())\n",
    "\n",
    "endDateTime = dt.now()\n",
    "print(\"End : \" + endDateTime.strftime(\"%Y-%b-%d %H:%M:%S.%f\"))\n",
    "print(\"Make Constraints:\" + str(endDateTime-startDateTime))"
   ]
  },
  {
   "cell_type": "markdown",
   "metadata": {},
   "source": [
    "### Objective"
   ]
  },
  {
   "cell_type": "code",
   "execution_count": null,
   "metadata": {},
   "outputs": [
    {
     "name": "stdout",
     "output_type": "stream",
     "text": [
      "Start : 2023-Jan-31 16:54:26.511457\n"
     ]
    }
   ],
   "source": [
    "startDateTime = dt.now()\n",
    "print(\"Start : \" + startDateTime.strftime(\"%Y-%b-%d %H:%M:%S.%f\"))\n",
    "\n",
    "obj_exp = 0\n",
    "# obj = solver.Sum(((prodqty[i][j][k] * PCOST[(PCOST['ITEM']==i+1)&(PCOST['RES']==j+1)].reset_index()['PCOST'] for i in range(len(ITEM))) for j in range(len(RES))) for k in range(len(TIME)))\n",
    "for i in range(len(ITEM)):\n",
    "    for j in range(len(RES)):\n",
    "        for k in range(len(TIME)):\n",
    "            obj_exp = obj_exp + prodqty[i][j][k] + int(PCOST[(PCOST['ITEM']==i+1)&(PCOST['RES']==j+1)].reset_index()['PCOST'][0]) + storeqty[i][k] * int(SCOST[SCOST['ITEM']==i+1].reset_index()['SCOST'][0])\n",
    "            \n",
    "endDateTime = dt.now()\n",
    "print(\"End : \" + endDateTime.strftime(\"%Y-%b-%d %H:%M:%S.%f\"))\n",
    "print(\"Make Objective:\" + str(endDateTime-startDateTime))"
   ]
  },
  {
   "cell_type": "code",
   "execution_count": null,
   "metadata": {},
   "outputs": [],
   "source": [
    "startDateTime = dt.now()\n",
    "print(\"Start : \" + startDateTime.strftime(\"%Y-%b-%d %H:%M:%S.%f\"))\n",
    "\n",
    "solver.Minimize(obj_exp)\n",
    "solver.Solve()\n",
    "\n",
    "endDateTime = dt.now()\n",
    "print(\"Solve Problem : \" + endDateTime.strftime(\"%Y-%b-%d %H:%M:%S.%f\"))\n",
    "print(endDateTime-startDateTime)"
   ]
  },
  {
   "cell_type": "code",
   "execution_count": null,
   "metadata": {},
   "outputs": [],
   "source": [
    "# for i in range(len(ITEM)):\n",
    "#     for j in range(len(RES)):\n",
    "#         for k in range(len(TIME)):\n",
    "#             print (\"ITEM %i, RES %i, WEEK %i \" %(i+1,j+1,k+1) )\n",
    "#             print (\"Prod Qty\",prodqty[i][j][k].solution_value())"
   ]
  },
  {
   "cell_type": "code",
   "execution_count": null,
   "metadata": {},
   "outputs": [],
   "source": [
    "# solver.Objective().Value()"
   ]
  },
  {
   "cell_type": "code",
   "execution_count": null,
   "metadata": {},
   "outputs": [],
   "source": [
    "startDateTime = dt.now()\n",
    "print(\"Start : \" + startDateTime.strftime(\"%Y-%b-%d %H:%M:%S.%f\"))\n",
    "\n",
    "arr_prod = np.empty((0,4), int)\n",
    "for i in range(len(ITEM)):\n",
    "    for j in range(len(RES)):\n",
    "        for k in range(len(TIME)):\n",
    "           arr_prod = np.append(arr_prod,np.array([[i+1,j+1,k+1,prodqty[i][j][k].solution_value()]]), axis=0)\n",
    "\n",
    "df_prod= pd.DataFrame(arr_prod,columns = ['ITEM','RES','TIME','PROD'])\n",
    "\n",
    "arr_store = np.empty((0,3), int)\n",
    "for i in range(len(ITEM)):\n",
    "    for k in range(len(TIME)):\n",
    "        arr_store = np.append(arr_store,np.array([[i+1,k+1,storeqty[i][k].solution_value()]]), axis=0)\n",
    "\n",
    "df_store = pd.DataFrame(arr_store,columns = ['ITEM','TIME','STORE'])\n",
    "\n",
    "df_prod.to_csv(path+'prodqty.csv',index=False)\n",
    "df_store.to_csv(path+'storeqty.csv',index=False)\n",
    "\n",
    "    \n",
    "endDateTime = dt.now()\n",
    "print(\"Write output : \" + endDateTime.strftime(\"%Y-%b-%d %H:%M:%S.%f\"))\n",
    "print(endDateTime-startDateTime)"
   ]
  },
  {
   "cell_type": "code",
   "execution_count": null,
   "metadata": {},
   "outputs": [],
   "source": []
  }
 ],
 "metadata": {
  "kernelspec": {
   "display_name": "opt",
   "language": "python",
   "name": "opt"
  },
  "language_info": {
   "codemirror_mode": {
    "name": "ipython",
    "version": 3
   },
   "file_extension": ".py",
   "mimetype": "text/x-python",
   "name": "python",
   "nbconvert_exporter": "python",
   "pygments_lexer": "ipython3",
   "version": "3.9.16"
  }
 },
 "nbformat": 4,
 "nbformat_minor": 4
}
