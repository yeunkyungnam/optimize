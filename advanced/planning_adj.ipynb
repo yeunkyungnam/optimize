{
 "cells": [
  {
   "cell_type": "code",
   "execution_count": 5,
   "metadata": {},
   "outputs": [],
   "source": [
    "from ortools.linear_solver import pywraplp\n",
    "import openpyxl\n",
    "import os\n",
    "import sys\n",
    "import time\n",
    "import datetime\n",
    "from datetime import datetime as dt\n",
    "\n",
    "import matplotlib as mpl\n",
    "import matplotlib.pyplot as plt\n",
    "import matplotlib.ticker\n",
    "import numpy as np\n",
    "import pandas as pd"
   ]
  },
  {
   "cell_type": "code",
   "execution_count": 6,
   "metadata": {},
   "outputs": [],
   "source": [
    "solver = pywraplp.Solver.CreateSolver('GLOP')\n",
    "solver.EnableOutput()\n",
    "# solver.SetNumThreads(10)"
   ]
  },
  {
   "cell_type": "code",
   "execution_count": 7,
   "metadata": {},
   "outputs": [],
   "source": [
    "path = './data/'"
   ]
  },
  {
   "cell_type": "code",
   "execution_count": 8,
   "metadata": {},
   "outputs": [
    {
     "name": "stdout",
     "output_type": "stream",
     "text": [
      "Start : 2023-Feb-03 15:58:20.051687\n",
      "End : 2023-Feb-03 15:58:20.729441\n",
      "Load Data :0:00:00.677754\n"
     ]
    }
   ],
   "source": [
    "startDateTime = dt.now()\n",
    "print(\"Start : \" + startDateTime.strftime(\"%Y-%b-%d %H:%M:%S.%f\"))\n",
    "\n",
    "DEM = pd.read_excel(path+'dataLarge.xlsx',sheet_name='DEM')\n",
    "CAPA = pd.read_excel(path+'dataLarge.xlsx',sheet_name='CAPA')\n",
    "PCOST = pd.read_excel(path+'dataLarge.xlsx',sheet_name='PCOST')\n",
    "SCOST = pd.read_excel(path+'dataLarge.xlsx',sheet_name='SCOST')\n",
    "ISTOCK = pd.read_excel(path+'dataLarge.xlsx',sheet_name='ISTOCK')\n",
    "ITEM = DEM['ITEM'].drop_duplicates().to_list()\n",
    "RES = CAPA['RES'].drop_duplicates().to_list()\n",
    "TIME = DEM['TIME'].drop_duplicates().to_list()\n",
    "\n",
    "arr_DEM = DEM.to_numpy()\n",
    "arr_CAPA = CAPA.to_numpy()\n",
    "arr_PCOST = PCOST.to_numpy()\n",
    "arr_SCOST = SCOST.to_numpy()\n",
    "arr_ISTOCK = ISTOCK.to_numpy()\n",
    "\n",
    "adj_DEM = np.zeros((len(ITEM),len(TIME)))\n",
    "adj_CAPA = np.zeros((len(RES),len(TIME)))\n",
    "adj_PCOST = np.zeros((len(ITEM),len(RES)))\n",
    "adj_SCOST = np.zeros((len(ITEM)))\n",
    "adj_ISTOCK = np.zeros((len(ITEM)))\n",
    "\n",
    "for i in range(len(arr_DEM)):\n",
    "    demand = arr_DEM[i][2]\n",
    "    np.put(adj_DEM,i,demand)\n",
    "    \n",
    "for i in range(len(arr_CAPA)):\n",
    "    capacity = arr_CAPA[i][2]\n",
    "    np.put(adj_CAPA,i,capacity)\n",
    "    \n",
    "for i in range(len(arr_PCOST)):\n",
    "    productcost = arr_PCOST[i][2]\n",
    "    np.put(adj_PCOST,i,productcost)\n",
    "    \n",
    "for i in range(len(arr_SCOST)):\n",
    "    stockcost = arr_SCOST[i][1]\n",
    "    np.put(adj_SCOST,i,stockcost)\n",
    "    \n",
    "for i in range(len(arr_ISTOCK)):\n",
    "    initstock = arr_ISTOCK[i][1]\n",
    "    np.put(adj_ISTOCK,i,initstock)\n",
    "    \n",
    "endDateTime = dt.now()\n",
    "print(\"End : \" + endDateTime.strftime(\"%Y-%b-%d %H:%M:%S.%f\"))\n",
    "print(\"Load Data :\" + str(endDateTime-startDateTime))"
   ]
  },
  {
   "cell_type": "code",
   "execution_count": 9,
   "metadata": {},
   "outputs": [
    {
     "name": "stdout",
     "output_type": "stream",
     "text": [
      "Start : 2023-Feb-03 15:58:20.734403\n",
      "Number of variables = 505000\n"
     ]
    }
   ],
   "source": [
    "startDateTime = dt.now()\n",
    "print(\"Start : \" + startDateTime.strftime(\"%Y-%b-%d %H:%M:%S.%f\"))\n",
    "\n",
    "prodqty = {}\n",
    "storeqty = {}\n",
    "\n",
    "for i in range(len(ITEM)):\n",
    "    prodqty[i]=[[solver.NumVar(0, solver.infinity(), 'prodqty[%i][%i][%i]' %(i,j,k)) for k in range(len(TIME))] for j in range(len(RES))]\n",
    "\n",
    "for i in range(len(ITEM)):\n",
    "    storeqty[i] = [solver.NumVar(0, solver.infinity(), 'storeqty[%i][%i]' %(i,k)) for k in range(len(TIME))]\n",
    "\n",
    "prodqty_cnt = len(ITEM)*len(RES)*len(TIME)\n",
    "storeqty_cnt = len(ITEM)*len(TIME)\n",
    "   \n",
    "print('Number of variables =', solver.NumVariables())"
   ]
  },
  {
   "cell_type": "markdown",
   "metadata": {},
   "source": [
    "### demand constraint"
   ]
  },
  {
   "cell_type": "code",
   "execution_count": 10,
   "metadata": {},
   "outputs": [],
   "source": [
    "for i in range(len(ITEM)) :\n",
    "    for k in range(len(TIME)):\n",
    "        if k == 0 :\n",
    "            solver.Add(solver.Sum(prodqty[i][j][k] for j in range(len(RES))) == int(adj_DEM[i][k]) - int(adj_ISTOCK[i]))\n",
    "        else :\n",
    "            solver.Add(solver.Sum(prodqty[i][j][k] for j in range(len(RES))) + storeqty[i][k-1] - storeqty[i][k] == int(adj_DEM[i][k]))"
   ]
  },
  {
   "cell_type": "markdown",
   "metadata": {},
   "source": [
    "### capa"
   ]
  },
  {
   "cell_type": "code",
   "execution_count": 11,
   "metadata": {},
   "outputs": [],
   "source": [
    "for j in range(len(RES)):\n",
    "    for k in range(len(TIME)):\n",
    "        solver.Add(solver.Sum(prodqty[i][j][k] for i in range(len(ITEM))) <= int(adj_CAPA[j][k]) )"
   ]
  },
  {
   "cell_type": "code",
   "execution_count": 12,
   "metadata": {},
   "outputs": [
    {
     "name": "stdout",
     "output_type": "stream",
     "text": [
      "Number of constraints = 10000\n",
      "End : 2023-Feb-03 15:58:22.963230\n",
      "Make Constraints:0:00:02.228827\n"
     ]
    }
   ],
   "source": [
    "print('Number of constraints =', solver.NumConstraints())\n",
    "\n",
    "endDateTime = dt.now()\n",
    "print(\"End : \" + endDateTime.strftime(\"%Y-%b-%d %H:%M:%S.%f\"))\n",
    "print(\"Make Constraints:\" + str(endDateTime-startDateTime))"
   ]
  },
  {
   "cell_type": "markdown",
   "metadata": {},
   "source": [
    "### Objective"
   ]
  },
  {
   "cell_type": "code",
   "execution_count": 13,
   "metadata": {},
   "outputs": [
    {
     "name": "stdout",
     "output_type": "stream",
     "text": [
      "Start : 2023-Feb-03 15:58:22.968331\n",
      "End : 2023-Feb-03 15:58:28.947547\n",
      "Make Objective:0:00:05.979216\n"
     ]
    }
   ],
   "source": [
    "startDateTime = dt.now()\n",
    "print(\"Start : \" + startDateTime.strftime(\"%Y-%b-%d %H:%M:%S.%f\"))\n",
    "\n",
    "obj_exp = 0\n",
    "# obj = solver.Sum(((prodqty[i][j][k] * PCOST[(PCOST['ITEM']==i+1)&(PCOST['RES']==j+1)].reset_index()['PCOST'] for i in range(len(ITEM))) for j in range(len(RES))) for k in range(len(TIME)))\n",
    "for i in range(len(ITEM)):\n",
    "    for j in range(len(RES)):\n",
    "        for k in range(len(TIME)):\n",
    "            obj_exp = obj_exp + prodqty[i][j][k] * int(adj_PCOST[i][j]) + storeqty[i][k] * int(adj_SCOST[i])\n",
    "            \n",
    "endDateTime = dt.now()\n",
    "print(\"End : \" + endDateTime.strftime(\"%Y-%b-%d %H:%M:%S.%f\"))\n",
    "print(\"Make Objective:\" + str(endDateTime-startDateTime))"
   ]
  },
  {
   "cell_type": "code",
   "execution_count": 14,
   "metadata": {},
   "outputs": [
    {
     "name": "stdout",
     "output_type": "stream",
     "text": [
      "Start : 2023-Feb-03 15:58:28.951632\n",
      "Solve Problem : 2023-Feb-03 15:58:35.368370\n",
      "0:00:06.416738\n"
     ]
    }
   ],
   "source": [
    "startDateTime = dt.now()\n",
    "print(\"Start : \" + startDateTime.strftime(\"%Y-%b-%d %H:%M:%S.%f\"))\n",
    "\n",
    "solver.Minimize(obj_exp)\n",
    "solver.Solve()\n",
    "\n",
    "endDateTime = dt.now()\n",
    "print(\"Solve Problem : \" + endDateTime.strftime(\"%Y-%b-%d %H:%M:%S.%f\"))\n",
    "print(endDateTime-startDateTime)"
   ]
  },
  {
   "cell_type": "code",
   "execution_count": 15,
   "metadata": {},
   "outputs": [],
   "source": [
    "# for i in range(len(ITEM)):\n",
    "#     for j in range(len(RES)):\n",
    "#         for k in range(len(TIME)):\n",
    "#             print (\"ITEM %i, RES %i, WEEK %i \" %(i+1,j+1,k+1) )\n",
    "#             print (\"Prod Qty\",prodqty[i][j][k].solution_value())"
   ]
  },
  {
   "cell_type": "code",
   "execution_count": 16,
   "metadata": {},
   "outputs": [],
   "source": [
    "# solver.Objective().Value()"
   ]
  },
  {
   "cell_type": "code",
   "execution_count": 17,
   "metadata": {},
   "outputs": [
    {
     "name": "stdout",
     "output_type": "stream",
     "text": [
      "Start : 2023-Feb-03 15:58:35.381924\n",
      "Write output : 2023-Feb-03 15:58:37.897561\n",
      "0:00:02.515637\n"
     ]
    }
   ],
   "source": [
    "startDateTime = dt.now()\n",
    "print(\"Start : \" + startDateTime.strftime(\"%Y-%b-%d %H:%M:%S.%f\"))\n",
    "\n",
    "arr_prod = np.zeros((prodqty_cnt,4))\n",
    "itr_prod = 0\n",
    "for i in range(len(ITEM)):\n",
    "    for j in range(len(RES)):\n",
    "        for k in range(len(TIME)):\n",
    "            np.put(arr_prod,itr_prod*4  ,i+1)\n",
    "            np.put(arr_prod,itr_prod*4+1,j+1)\n",
    "            np.put(arr_prod,itr_prod*4+2,k+1)\n",
    "            np.put(arr_prod,itr_prod*4+3,prodqty[i][j][k].solution_value())\n",
    "            itr_prod = itr_prod+1 \n",
    " \n",
    "df_prod= pd.DataFrame(arr_prod,columns = ['ITEM','RES','TIME','PROD'])\n",
    "\n",
    "arr_store = np.zeros((storeqty_cnt,3))\n",
    "itr_store = 0\n",
    "for i in range(len(ITEM)):\n",
    "    for k in range(len(TIME)):\n",
    "        np.put(arr_store,itr_store*3  ,i+1)\n",
    "        np.put(arr_store,itr_store*3+1,k+1)\n",
    "        np.put(arr_store,itr_store*3+2,storeqty[i][k].solution_value())\n",
    "\n",
    "df_store = pd.DataFrame(arr_store,columns = ['ITEM','TIME','STORE'])\n",
    "\n",
    "df_prod.to_csv(path+'prodqty.csv',index=False)\n",
    "df_store.to_csv(path+'storeqty.csv',index=False)\n",
    "    \n",
    "endDateTime = dt.now()\n",
    "print(\"Write output : \" + endDateTime.strftime(\"%Y-%b-%d %H:%M:%S.%f\"))\n",
    "print(endDateTime-startDateTime)"
   ]
  }
 ],
 "metadata": {
  "kernelspec": {
   "display_name": "opt",
   "language": "python",
   "name": "opt"
  },
  "language_info": {
   "codemirror_mode": {
    "name": "ipython",
    "version": 3
   },
   "file_extension": ".py",
   "mimetype": "text/x-python",
   "name": "python",
   "nbconvert_exporter": "python",
   "pygments_lexer": "ipython3",
   "version": "3.9.16"
  }
 },
 "nbformat": 4,
 "nbformat_minor": 4
}
